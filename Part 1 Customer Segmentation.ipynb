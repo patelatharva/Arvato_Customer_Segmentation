{
 "cells": [
  {
   "cell_type": "markdown",
   "metadata": {},
   "source": [
    "# Capstone Project: Create a Customer Segmentation Report for Arvato Financial Services\n",
    "\n",
    "In this project, you will analyze demographics data for customers of a mail-order sales company in Germany, comparing it against demographics information for the general population. You'll use unsupervised learning techniques to perform customer segmentation, identifying the parts of the population that best describe the core customer base of the company. Then, you'll apply what you've learned on a third dataset with demographics information for targets of a marketing campaign for the company, and use a model to predict which individuals are most likely to convert into becoming customers for the company. The data that you will use has been provided by our partners at Bertelsmann Arvato Analytics, and represents a real-life data science task.\n",
    "\n",
    "If you completed the first term of this program, you will be familiar with the first part of this project, from the unsupervised learning project. The versions of those two datasets used in this project will include many more features and has not been pre-cleaned. You are also free to choose whatever approach you'd like to analyzing the data rather than follow pre-determined steps. In your work on this project, make sure that you carefully document your steps and decisions, since your main deliverable for this project will be a blog post reporting your findings."
   ]
  },
  {
   "cell_type": "code",
   "execution_count": 103,
   "metadata": {},
   "outputs": [],
   "source": [
    "# import libraries here; add more as necessary\n",
    "import numpy as np\n",
    "import pandas as pd\n",
    "import matplotlib.pyplot as plt\n",
    "import seaborn as sns\n",
    "import pprint\n",
    "import operator\n",
    "import time\n",
    "from sklearn.preprocessing import Imputer\n",
    "from sklearn.cluster import KMeans\n",
    "from sklearn.preprocessing import StandardScaler\n",
    "from sklearn.decomposition import PCA    \n",
    "from sklearn.preprocessing import LabelEncoder\n",
    "# !pip install mca\n",
    "# import mca\n",
    "import chardet\n",
    "# magic word for producing visualizations in notebook\n",
    "%matplotlib inline\n",
    "from sklearn.svm import SVC\n",
    "from sklearn.model_selection import GridSearchCV\n",
    "from sklearn.model_selection import train_test_split\n",
    "from sklearn.pipeline import Pipeline\n",
    "from sklearn.tree import DecisionTreeClassifier\n",
    "from sklearn.ensemble import AdaBoostClassifier\n",
    "from sklearn.metrics import f1_score, roc_auc_score\n",
    "import seaborn as sns"
   ]
  },
  {
   "cell_type": "markdown",
   "metadata": {},
   "source": [
    "## Part 0: Get to Know the Data\n",
    "\n",
    "There are four data files associated with this project:\n",
    "\n",
    "- `Udacity_AZDIAS_052018.csv`: Demographics data for the general population of Germany; 891 211 persons (rows) x 366 features (columns).\n",
    "- `Udacity_CUSTOMERS_052018.csv`: Demographics data for customers of a mail-order company; 191 652 persons (rows) x 369 features (columns).\n",
    "- `Udacity_MAILOUT_052018_TRAIN.csv`: Demographics data for individuals who were targets of a marketing campaign; 42 982 persons (rows) x 367 (columns).\n",
    "- `Udacity_MAILOUT_052018_TEST.csv`: Demographics data for individuals who were targets of a marketing campaign; 42 833 persons (rows) x 366 (columns).\n",
    "\n",
    "Each row of the demographics files represents a single person, but also includes information outside of individuals, including information about their household, building, and neighborhood. Use the information from the first two files to figure out how customers (\"CUSTOMERS\") are similar to or differ from the general population at large (\"AZDIAS\"), then use your analysis to make predictions on the other two files (\"MAILOUT\"), predicting which recipients are most likely to become a customer for the mail-order company.\n",
    "\n",
    "The \"CUSTOMERS\" file contains three extra columns ('CUSTOMER_GROUP', 'ONLINE_PURCHASE', and 'PRODUCT_GROUP'), which provide broad information about the customers depicted in the file. The original \"MAILOUT\" file included one additional column, \"RESPONSE\", which indicated whether or not each recipient became a customer of the company. For the \"TRAIN\" subset, this column has been retained, but in the \"TEST\" subset it has been removed; it is against that withheld column that your final predictions will be assessed in the Kaggle competition.\n",
    "\n",
    "Otherwise, all of the remaining columns are the same between the three data files. For more information about the columns depicted in the files, you can refer to two Excel spreadsheets provided in the workspace. [One of them](./DIAS Information Levels - Attributes 2017.xlsx) is a top-level list of attributes and descriptions, organized by informational category. [The other](./DIAS Attributes - Values 2017.xlsx) is a detailed mapping of data values for each feature in alphabetical order.\n",
    "\n",
    "In the below cell, we've provided some initial code to load in the first two datasets. Note for all of the `.csv` data files in this project that they're semicolon (`;`) delimited, so an additional argument in the [`read_csv()`](https://pandas.pydata.org/pandas-docs/stable/generated/pandas.read_csv.html) call has been included to read in the data properly. Also, considering the size of the datasets, it may take some time for them to load completely.\n",
    "\n",
    "You'll notice when the data is loaded in that a warning message will immediately pop up. Before you really start digging into the modeling and analysis, you're going to need to perform some cleaning. Take some time to browse the structure of the data and look over the informational spreadsheets to understand the data values. Make some decisions on which features to keep, which features to drop, and if any revisions need to be made on data formats. It'll be a good idea to create a function with pre-processing steps, since you'll need to clean all of the datasets before you work with them."
   ]
  },
  {
   "cell_type": "code",
   "execution_count": null,
   "metadata": {},
   "outputs": [],
   "source": [
    "azdias = pd.read_csv('../../data/Term2/capstone/arvato_data/Udacity_AZDIAS_052018.csv', sep=';', dtype=str)\n",
    "customers = pd.read_csv('../../data/Term2/capstone/arvato_data/Udacity_CUSTOMERS_052018.csv', sep=';', dtype=str)"
   ]
  },
  {
   "cell_type": "code",
   "execution_count": null,
   "metadata": {},
   "outputs": [],
   "source": [
    "# Be sure to add in a lot more cells (both markdown and code) to document your\n",
    "# approach and findings!"
   ]
  },
  {
   "cell_type": "code",
   "execution_count": 149,
   "metadata": {},
   "outputs": [
    {
     "data": {
      "text/html": [
       "<div>\n",
       "<style scoped>\n",
       "    .dataframe tbody tr th:only-of-type {\n",
       "        vertical-align: middle;\n",
       "    }\n",
       "\n",
       "    .dataframe tbody tr th {\n",
       "        vertical-align: top;\n",
       "    }\n",
       "\n",
       "    .dataframe thead th {\n",
       "        text-align: right;\n",
       "    }\n",
       "</style>\n",
       "<table border=\"1\" class=\"dataframe\">\n",
       "  <thead>\n",
       "    <tr style=\"text-align: right;\">\n",
       "      <th></th>\n",
       "      <th>LNR</th>\n",
       "      <th>AGER_TYP</th>\n",
       "      <th>AKT_DAT_KL</th>\n",
       "      <th>ALTER_HH</th>\n",
       "      <th>ALTER_KIND1</th>\n",
       "      <th>ALTER_KIND2</th>\n",
       "      <th>ALTER_KIND3</th>\n",
       "      <th>ALTER_KIND4</th>\n",
       "      <th>ALTERSKATEGORIE_FEIN</th>\n",
       "      <th>ANZ_HAUSHALTE_AKTIV</th>\n",
       "      <th>...</th>\n",
       "      <th>VHN</th>\n",
       "      <th>VK_DHT4A</th>\n",
       "      <th>VK_DISTANZ</th>\n",
       "      <th>VK_ZG11</th>\n",
       "      <th>W_KEIT_KIND_HH</th>\n",
       "      <th>WOHNDAUER_2008</th>\n",
       "      <th>WOHNLAGE</th>\n",
       "      <th>ZABEOTYP</th>\n",
       "      <th>ANREDE_KZ</th>\n",
       "      <th>ALTERSKATEGORIE_GROB</th>\n",
       "    </tr>\n",
       "  </thead>\n",
       "  <tbody>\n",
       "    <tr>\n",
       "      <th>0</th>\n",
       "      <td>910215</td>\n",
       "      <td>-1</td>\n",
       "      <td>NaN</td>\n",
       "      <td>NaN</td>\n",
       "      <td>NaN</td>\n",
       "      <td>NaN</td>\n",
       "      <td>NaN</td>\n",
       "      <td>NaN</td>\n",
       "      <td>NaN</td>\n",
       "      <td>NaN</td>\n",
       "      <td>...</td>\n",
       "      <td>NaN</td>\n",
       "      <td>NaN</td>\n",
       "      <td>NaN</td>\n",
       "      <td>NaN</td>\n",
       "      <td>NaN</td>\n",
       "      <td>NaN</td>\n",
       "      <td>NaN</td>\n",
       "      <td>3</td>\n",
       "      <td>1</td>\n",
       "      <td>2</td>\n",
       "    </tr>\n",
       "    <tr>\n",
       "      <th>1</th>\n",
       "      <td>910220</td>\n",
       "      <td>-1</td>\n",
       "      <td>9</td>\n",
       "      <td>0</td>\n",
       "      <td>NaN</td>\n",
       "      <td>NaN</td>\n",
       "      <td>NaN</td>\n",
       "      <td>NaN</td>\n",
       "      <td>21</td>\n",
       "      <td>11</td>\n",
       "      <td>...</td>\n",
       "      <td>4</td>\n",
       "      <td>8</td>\n",
       "      <td>11</td>\n",
       "      <td>10</td>\n",
       "      <td>3</td>\n",
       "      <td>9</td>\n",
       "      <td>4</td>\n",
       "      <td>5</td>\n",
       "      <td>2</td>\n",
       "      <td>1</td>\n",
       "    </tr>\n",
       "    <tr>\n",
       "      <th>2</th>\n",
       "      <td>910225</td>\n",
       "      <td>-1</td>\n",
       "      <td>9</td>\n",
       "      <td>17</td>\n",
       "      <td>NaN</td>\n",
       "      <td>NaN</td>\n",
       "      <td>NaN</td>\n",
       "      <td>NaN</td>\n",
       "      <td>17</td>\n",
       "      <td>10</td>\n",
       "      <td>...</td>\n",
       "      <td>2</td>\n",
       "      <td>9</td>\n",
       "      <td>9</td>\n",
       "      <td>6</td>\n",
       "      <td>3</td>\n",
       "      <td>9</td>\n",
       "      <td>2</td>\n",
       "      <td>5</td>\n",
       "      <td>2</td>\n",
       "      <td>3</td>\n",
       "    </tr>\n",
       "    <tr>\n",
       "      <th>3</th>\n",
       "      <td>910226</td>\n",
       "      <td>2</td>\n",
       "      <td>1</td>\n",
       "      <td>13</td>\n",
       "      <td>NaN</td>\n",
       "      <td>NaN</td>\n",
       "      <td>NaN</td>\n",
       "      <td>NaN</td>\n",
       "      <td>13</td>\n",
       "      <td>1</td>\n",
       "      <td>...</td>\n",
       "      <td>0</td>\n",
       "      <td>7</td>\n",
       "      <td>10</td>\n",
       "      <td>11</td>\n",
       "      <td>NaN</td>\n",
       "      <td>9</td>\n",
       "      <td>7</td>\n",
       "      <td>3</td>\n",
       "      <td>2</td>\n",
       "      <td>4</td>\n",
       "    </tr>\n",
       "    <tr>\n",
       "      <th>4</th>\n",
       "      <td>910241</td>\n",
       "      <td>-1</td>\n",
       "      <td>1</td>\n",
       "      <td>20</td>\n",
       "      <td>NaN</td>\n",
       "      <td>NaN</td>\n",
       "      <td>NaN</td>\n",
       "      <td>NaN</td>\n",
       "      <td>14</td>\n",
       "      <td>3</td>\n",
       "      <td>...</td>\n",
       "      <td>2</td>\n",
       "      <td>3</td>\n",
       "      <td>5</td>\n",
       "      <td>4</td>\n",
       "      <td>2</td>\n",
       "      <td>9</td>\n",
       "      <td>3</td>\n",
       "      <td>4</td>\n",
       "      <td>1</td>\n",
       "      <td>3</td>\n",
       "    </tr>\n",
       "  </tbody>\n",
       "</table>\n",
       "<p>5 rows × 366 columns</p>\n",
       "</div>"
      ],
      "text/plain": [
       "      LNR AGER_TYP AKT_DAT_KL ALTER_HH ALTER_KIND1 ALTER_KIND2 ALTER_KIND3  \\\n",
       "0  910215       -1        NaN      NaN         NaN         NaN         NaN   \n",
       "1  910220       -1          9        0         NaN         NaN         NaN   \n",
       "2  910225       -1          9       17         NaN         NaN         NaN   \n",
       "3  910226        2          1       13         NaN         NaN         NaN   \n",
       "4  910241       -1          1       20         NaN         NaN         NaN   \n",
       "\n",
       "  ALTER_KIND4 ALTERSKATEGORIE_FEIN ANZ_HAUSHALTE_AKTIV  ...  VHN VK_DHT4A  \\\n",
       "0         NaN                  NaN                 NaN  ...  NaN      NaN   \n",
       "1         NaN                   21                  11  ...    4        8   \n",
       "2         NaN                   17                  10  ...    2        9   \n",
       "3         NaN                   13                   1  ...    0        7   \n",
       "4         NaN                   14                   3  ...    2        3   \n",
       "\n",
       "  VK_DISTANZ VK_ZG11 W_KEIT_KIND_HH WOHNDAUER_2008 WOHNLAGE ZABEOTYP  \\\n",
       "0        NaN     NaN            NaN            NaN      NaN        3   \n",
       "1         11      10              3              9        4        5   \n",
       "2          9       6              3              9        2        5   \n",
       "3         10      11            NaN              9        7        3   \n",
       "4          5       4              2              9        3        4   \n",
       "\n",
       "  ANREDE_KZ ALTERSKATEGORIE_GROB  \n",
       "0         1                    2  \n",
       "1         2                    1  \n",
       "2         2                    3  \n",
       "3         2                    4  \n",
       "4         1                    3  \n",
       "\n",
       "[5 rows x 366 columns]"
      ]
     },
     "execution_count": 149,
     "metadata": {},
     "output_type": "execute_result"
    }
   ],
   "source": [
    "azdias.head()"
   ]
  },
  {
   "cell_type": "code",
   "execution_count": 150,
   "metadata": {},
   "outputs": [
    {
     "data": {
      "text/plain": [
       "(891221, 366)"
      ]
     },
     "execution_count": 150,
     "metadata": {},
     "output_type": "execute_result"
    }
   ],
   "source": [
    "azdias.shape"
   ]
  },
  {
   "cell_type": "code",
   "execution_count": 151,
   "metadata": {},
   "outputs": [
    {
     "data": {
      "text/plain": [
       "891221"
      ]
     },
     "execution_count": 151,
     "metadata": {},
     "output_type": "execute_result"
    }
   ],
   "source": [
    "azdias[\"LNR\"].nunique()"
   ]
  },
  {
   "cell_type": "markdown",
   "metadata": {},
   "source": [
    "It seems like each row has unique LNR value."
   ]
  },
  {
   "cell_type": "code",
   "execution_count": 152,
   "metadata": {},
   "outputs": [
    {
     "data": {
      "text/plain": [
       "(191652, 369)"
      ]
     },
     "execution_count": 152,
     "metadata": {},
     "output_type": "execute_result"
    }
   ],
   "source": [
    "customers.shape"
   ]
  },
  {
   "cell_type": "code",
   "execution_count": 153,
   "metadata": {},
   "outputs": [
    {
     "data": {
      "text/plain": [
       "True"
      ]
     },
     "execution_count": 153,
     "metadata": {},
     "output_type": "execute_result"
    }
   ],
   "source": [
    "customers[\"LNR\"].nunique() == customers.shape[0]"
   ]
  },
  {
   "cell_type": "code",
   "execution_count": 154,
   "metadata": {},
   "outputs": [
    {
     "data": {
      "text/plain": [
       "array([], dtype=object)"
      ]
     },
     "execution_count": 154,
     "metadata": {},
     "output_type": "execute_result"
    }
   ],
   "source": [
    "np.intersect1d(azdias[\"LNR\"], customers[\"LNR\"])"
   ]
  },
  {
   "cell_type": "markdown",
   "metadata": {},
   "source": [
    "## Dealing with missing data"
   ]
  },
  {
   "cell_type": "markdown",
   "metadata": {},
   "source": [
    "This dataframe will help in replacing the values indicating missing data with `None` during the cleaning step."
   ]
  },
  {
   "cell_type": "code",
   "execution_count": 155,
   "metadata": {},
   "outputs": [],
   "source": [
    "feat_info = pd.read_csv(\"features.csv\")"
   ]
  },
  {
   "cell_type": "code",
   "execution_count": 156,
   "metadata": {},
   "outputs": [
    {
     "data": {
      "text/html": [
       "<div>\n",
       "<style scoped>\n",
       "    .dataframe tbody tr th:only-of-type {\n",
       "        vertical-align: middle;\n",
       "    }\n",
       "\n",
       "    .dataframe tbody tr th {\n",
       "        vertical-align: top;\n",
       "    }\n",
       "\n",
       "    .dataframe thead th {\n",
       "        text-align: right;\n",
       "    }\n",
       "</style>\n",
       "<table border=\"1\" class=\"dataframe\">\n",
       "  <thead>\n",
       "    <tr style=\"text-align: right;\">\n",
       "      <th></th>\n",
       "      <th>attribute</th>\n",
       "      <th>information_level</th>\n",
       "      <th>type</th>\n",
       "      <th>missing_or_unknown</th>\n",
       "      <th>Comment</th>\n",
       "    </tr>\n",
       "  </thead>\n",
       "  <tbody>\n",
       "    <tr>\n",
       "      <th>0</th>\n",
       "      <td>AGER_TYP</td>\n",
       "      <td>person</td>\n",
       "      <td>categorical</td>\n",
       "      <td>[-1,0]</td>\n",
       "      <td>NaN</td>\n",
       "    </tr>\n",
       "    <tr>\n",
       "      <th>1</th>\n",
       "      <td>ALTER_HH</td>\n",
       "      <td>household</td>\n",
       "      <td>interval</td>\n",
       "      <td>[0]</td>\n",
       "      <td>NaN</td>\n",
       "    </tr>\n",
       "    <tr>\n",
       "      <th>2</th>\n",
       "      <td>ALTERSKATEGORIE_GROB</td>\n",
       "      <td>person</td>\n",
       "      <td>ordinal</td>\n",
       "      <td>[-1,0,9]</td>\n",
       "      <td>NaN</td>\n",
       "    </tr>\n",
       "    <tr>\n",
       "      <th>3</th>\n",
       "      <td>ANREDE_KZ</td>\n",
       "      <td>person</td>\n",
       "      <td>categorical</td>\n",
       "      <td>[-1,0]</td>\n",
       "      <td>NaN</td>\n",
       "    </tr>\n",
       "    <tr>\n",
       "      <th>4</th>\n",
       "      <td>ANZ_HAUSHALTE_AKTIV</td>\n",
       "      <td>building</td>\n",
       "      <td>numeric</td>\n",
       "      <td>[0]</td>\n",
       "      <td>NaN</td>\n",
       "    </tr>\n",
       "  </tbody>\n",
       "</table>\n",
       "</div>"
      ],
      "text/plain": [
       "              attribute information_level         type missing_or_unknown  \\\n",
       "0              AGER_TYP            person  categorical             [-1,0]   \n",
       "1              ALTER_HH         household     interval                [0]   \n",
       "2  ALTERSKATEGORIE_GROB            person      ordinal           [-1,0,9]   \n",
       "3             ANREDE_KZ            person  categorical             [-1,0]   \n",
       "4   ANZ_HAUSHALTE_AKTIV          building      numeric                [0]   \n",
       "\n",
       "  Comment  \n",
       "0     NaN  \n",
       "1     NaN  \n",
       "2     NaN  \n",
       "3     NaN  \n",
       "4     NaN  "
      ]
     },
     "execution_count": 156,
     "metadata": {},
     "output_type": "execute_result"
    }
   ],
   "source": [
    "feat_info.head()"
   ]
  },
  {
   "cell_type": "code",
   "execution_count": 157,
   "metadata": {},
   "outputs": [],
   "source": [
    "azdias_cleaned = azdias.copy()"
   ]
  },
  {
   "cell_type": "code",
   "execution_count": 158,
   "metadata": {},
   "outputs": [],
   "source": [
    "for index, row in feat_info.iterrows():\n",
    "    attribute, information_level, var_type, missing, comment = row\n",
    "    if attribute in azdias_cleaned.columns:\n",
    "        values = missing.replace(\"[\",\"\").replace(\"]\",\"\").split(\",\")\n",
    "        replacement = {}\n",
    "        for value in values:\n",
    "            value = value.strip()\n",
    "            replacement[value] = None\n",
    "        azdias_cleaned.loc[:, attribute].replace(replacement, inplace=True)"
   ]
  },
  {
   "cell_type": "code",
   "execution_count": 159,
   "metadata": {},
   "outputs": [],
   "source": [
    "# Perform an assessment of how much missing data there is in each column of the\n",
    "# dataset.\n",
    "missing = azdias_cleaned.isnull().sum()\n",
    "missing = missing[missing > 0]/(azdias.shape[0]) * 100\n",
    "missing.sort_values(inplace=True)"
   ]
  },
  {
   "cell_type": "code",
   "execution_count": 160,
   "metadata": {},
   "outputs": [
    {
     "data": {
      "image/png": "[encoded data removed]",
      "text/plain": [
       "<Figure size 432x288 with 1 Axes>"
      ]
     },
     "metadata": {
      "needs_background": "light"
     },
     "output_type": "display_data"
    }
   ],
   "source": [
    "plt.hist(missing, bins=20, facecolor='c', alpha=0.75)\n",
    "plt.xlabel('Percentage of missing value')\n",
    "plt.ylabel('Counts')\n",
    "plt.title('Distribution of missing value counts')\n",
    "plt.grid(True)\n",
    "plt.show()"
   ]
  },
  {
   "cell_type": "code",
   "execution_count": 161,
   "metadata": {},
   "outputs": [
    {
     "name": "stdout",
     "output_type": "stream",
     "text": [
      "['ALTER_KIND1', 'ALTER_KIND2', 'ALTER_KIND3', 'ALTER_KIND4', 'ALTERSKATEGORIE_FEIN', 'D19_BANKEN_ONLINE_QUOTE_12', 'D19_GESAMT_ONLINE_QUOTE_12', 'D19_KONSUMTYP', 'D19_LETZTER_KAUF_BRANCHE', 'D19_LOTTO', 'D19_SOZIALES', 'D19_TELKO_ONLINE_QUOTE_12', 'D19_VERSAND_ONLINE_QUOTE_12', 'D19_VERSI_ONLINE_QUOTE_12', 'EXTSEL992', 'KK_KUNDENTYP']\n"
     ]
    }
   ],
   "source": [
    "missing_20 = [col for col in azdias_cleaned.columns if (azdias[col].isnull().sum()/azdias_cleaned.shape[0]) * 100 > 20]\n",
    "print(missing_20)"
   ]
  },
  {
   "cell_type": "markdown",
   "metadata": {},
   "source": [
    "I have decided to drop these columns during the data cleaning step as the columns with more than 20% missing values look like outliers among all the columns as most of the columns have less than 20% missing values.\n",
    "\n",
    "To decide on how to deal with the remaining columns with less than 20% missing values, I decided to divide the columns in two sets: one with less than or equal to x missing values and another with more than x missing values and observe the distribution of values for the columns in each set to see if there is any significant difference visible."
   ]
  },
  {
   "cell_type": "code",
   "execution_count": 164,
   "metadata": {},
   "outputs": [],
   "source": [
    "few_missing = azdias_cleaned[cols_less_than_20_missing][azdias_cleaned[cols_less_than_20_missing].isnull().sum(axis=1) < 20].reset_index(drop=True)\n",
    "high_missing = azdias_cleaned[cols_less_than_20_missing][azdias_cleaned[cols_less_than_20_missing].isnull().sum(axis=1) >= 20].reset_index(drop=True)"
   ]
  },
  {
   "cell_type": "code",
   "execution_count": 165,
   "metadata": {},
   "outputs": [],
   "source": [
    "cols_with_least_missing_values = missing.sort_values().index[:5]"
   ]
  },
  {
   "cell_type": "code",
   "execution_count": 166,
   "metadata": {},
   "outputs": [
    {
     "data": {
      "text/plain": [
       "1    0.104657\n",
       "2    0.119114\n",
       "3    0.032928\n",
       "Name: AGER_TYP, dtype: float64"
      ]
     },
     "execution_count": 166,
     "metadata": {},
     "output_type": "execute_result"
    }
   ],
   "source": [
    "few_missing.iloc[:, 1].value_counts().sort_index()/few_missing.shape[0]"
   ]
  },
  {
   "cell_type": "code",
   "execution_count": 167,
   "metadata": {},
   "outputs": [
    {
     "data": {
      "text/plain": [
       "1    0.019621\n",
       "2    0.070598\n",
       "3    0.018775\n",
       "Name: AGER_TYP, dtype: float64"
      ]
     },
     "execution_count": 167,
     "metadata": {},
     "output_type": "execute_result"
    }
   ],
   "source": [
    "high_missing.iloc[:, 1].value_counts().sort_index()/high_missing.shape[0]"
   ]
  },
  {
   "cell_type": "code",
   "execution_count": 168,
   "metadata": {},
   "outputs": [
    {
     "name": "stdout",
     "output_type": "stream",
     "text": [
      "Difference in the proportion of samples with given value in percentage between rows with few missing values and rows with many missing values\n",
      "\n",
      "Column: ALTERSKATEGORIE_GROB\n",
      "1    -2.322733\n",
      "2    -3.652445\n",
      "3    -7.644974\n",
      "4    13.471156\n",
      "Name: ALTERSKATEGORIE_GROB, dtype: float64\n",
      "\n",
      "Column: RETOURTYP_BK_S\n",
      "1     6.536589\n",
      "2     5.387447\n",
      "3   -23.719107\n",
      "4     2.755688\n",
      "5    12.103680\n",
      "Name: RETOURTYP_BK_S, dtype: float64\n",
      "\n",
      "Column: RT_SCHNAEPPCHEN\n",
      "1     4.249991\n",
      "2     8.135772\n",
      "3     7.390354\n",
      "4     6.340904\n",
      "5   -23.052723\n",
      "Name: RT_SCHNAEPPCHEN, dtype: float64\n",
      "\n",
      "Column: LP_STATUS_GROB\n",
      "1    16.945056\n",
      "2   -20.221301\n",
      "3     1.183501\n",
      "4    -0.716384\n",
      "5     5.873425\n",
      "Name: LP_STATUS_GROB, dtype: float64\n",
      "\n",
      "Column: LP_STATUS_FEIN\n",
      "1      9.837824\n",
      "10     5.873425\n",
      "2      7.107232\n",
      "3      3.341546\n",
      "4      4.730902\n",
      "5    -28.293749\n",
      "6      0.976300\n",
      "7      0.207201\n",
      "8     -1.706803\n",
      "9      0.990419\n",
      "Name: LP_STATUS_FEIN, dtype: float64\n"
     ]
    }
   ],
   "source": [
    "print (\"Difference in the proportion of samples with given value in percentage between rows with few missing values and rows with many missing values\")\n",
    "for col in cols_with_least_missing_values:\n",
    "    print (\"\\nColumn: {}\".format(col))\n",
    "    print(100 * (few_missing.loc[:, col].value_counts().sort_index()/few_missing.shape[0] - high_missing.loc[:, col].value_counts().sort_index()/high_missing.shape[0]))"
   ]
  },
  {
   "cell_type": "markdown",
   "metadata": {},
   "source": [
    "As we can see from the above figures that there is significant difference between the distributions of the values in the rows with large number of missing values vs. low number of missing values. This suggests that the missing values are more likely to be present in rows with specific distribution of values in other columns with few missing values. This means that it is not a good idea to drop the rows with missing values and instead we need to fill them with some meaningful value. For the categorical, ordinal and interval type columns, it makes sense to fill the missing values with Mode of the column."
   ]
  },
  {
   "cell_type": "markdown",
   "metadata": {},
   "source": [
    "Column \"flag indicating the former GDR/FRG\" contains categorical values 'W' and 'O' which needs to be converted into binary numerical values."
   ]
  },
  {
   "cell_type": "markdown",
   "metadata": {},
   "source": [
    "For the purpose of using in PCA, I have only retained columns that have less that 30 ordinal level values during the cleaning process."
   ]
  },
  {
   "cell_type": "markdown",
   "metadata": {},
   "source": [
    "Below is the method that encodes all the cleaning steps described above. This method can be called on both population data as well as customers data."
   ]
  },
  {
   "cell_type": "code",
   "execution_count": 169,
   "metadata": {},
   "outputs": [],
   "source": [
    "def clean_data(df_input):\n",
    "    \"\"\"\n",
    "    Takes data frame as input. \n",
    "    Performs required cleaning steps to convert it into a dataframe useful for further analysis.\n",
    "    Input:\n",
    "    - df_input : Dataframe to be cleaned\n",
    "    Output:\n",
    "    - df : Cleaned dataframe\n",
    "    \"\"\"\n",
    "    df = df_input.copy()\n",
    "    print (\"Copied\")\n",
    "    \n",
    "    for index, row in feat_info.iterrows():\n",
    "        attribute, information_level, var_type, missing, comment = row\n",
    "        if attribute in df.columns:\n",
    "            values = missing.replace(\"[\",\"\").replace(\"]\",\"\").split(\",\")\n",
    "            replacement = {}\n",
    "            for value in values:\n",
    "                value = value.strip()\n",
    "                replacement[value] = None\n",
    "            df.loc[:, attribute].replace(replacement, inplace=True)\n",
    "    \n",
    "    print(\"Replaced unknown with None\")\n",
    "    df.replace({\"-1\": None, 'X': None, 'XX': None}, inplace=True)\n",
    "    print (\"Replaced -1, X, XX with None\")\n",
    "    recode = ['D19_BANKEN_DATUM', 'D19_BANKEN_OFFLINE_DATUM',\n",
    "       'D19_BANKEN_ONLINE_DATUM', 'D19_GESAMT_DATUM',\n",
    "       'D19_GESAMT_OFFLINE_DATUM', 'D19_GESAMT_ONLINE_DATUM',\n",
    "       'D19_TELKO_DATUM', 'D19_TELKO_OFFLINE_DATUM',\n",
    "       'D19_TELKO_ONLINE_DATUM', 'D19_VERSAND_DATUM',\n",
    "       'D19_VERSAND_OFFLINE_DATUM', 'D19_VERSAND_ONLINE_DATUM',\n",
    "       'D19_VERSI_DATUM', 'D19_VERSI_OFFLINE_DATUM',\n",
    "       'D19_VERSI_ONLINE_DATUM']\n",
    "    to_be_recoded = [col for col in df.columns if col in recode]\n",
    "    df[to_be_recoded] = df[to_be_recoded].replace(\"10\", \"0\")\n",
    "    col_select = (df.isna().sum(axis=0)/df.shape[0]) <= 0.20    \n",
    "    df = df.loc[:, col_select]\n",
    "    print (\"Retained columns with only few missing values\")\n",
    "    df = df.loc[:, df.nunique() <= 30]\n",
    "    print (\"Retained columns with limited levels\")\n",
    "    def fill_mode(col):\n",
    "        return col.fillna(col.mode()[0])\n",
    "    df = df.apply(fill_mode, axis=0)\n",
    "    print (\"Filled Nan with Mode\")\n",
    "    \n",
    "    numbers = [str(x) for x in range(100)]\n",
    "    for col in df.columns:\n",
    "        level = 0\n",
    "        for value in df[col].unique():\n",
    "            if value not in numbers:\n",
    "                df.loc[df[col] == value, col] = level\n",
    "                print(col + \" \" + str(df[col].unique()))                \n",
    "                print(\"Replaced {} with {}\".format(value, level))\n",
    "                level += 1\n",
    "    df = df.astype(float)\n",
    "    print (\"Converted to numeric\")\n",
    "    return df"
   ]
  },
  {
   "cell_type": "code",
   "execution_count": 170,
   "metadata": {},
   "outputs": [],
   "source": [
    "common_cols = np.intersect1d(customers.columns, azdias.columns)"
   ]
  },
  {
   "cell_type": "code",
   "execution_count": 171,
   "metadata": {},
   "outputs": [
    {
     "name": "stdout",
     "output_type": "stream",
     "text": [
      "Copied\n",
      "Replaced unknown with None\n",
      "Replaced -1, X, XX with None\n",
      "Retained columns with only few missing values\n",
      "Retained columns with limited levels\n",
      "Filled Nan with Mode\n",
      "Converted to numeric\n"
     ]
    }
   ],
   "source": [
    "cust = clean_data(customers[common_cols])"
   ]
  },
  {
   "cell_type": "code",
   "execution_count": 172,
   "metadata": {},
   "outputs": [
    {
     "name": "stdout",
     "output_type": "stream",
     "text": [
      "Copied\n",
      "Replaced unknown with None\n",
      "Replaced -1, X, XX with None\n",
      "Retained columns with only few missing values\n",
      "Retained columns with limited levels\n",
      "Filled Nan with Mode\n",
      "OST_WEST_KZ [0 'O']\n",
      "Replaced W with 0\n",
      "OST_WEST_KZ [0 1]\n",
      "Replaced O with 1\n",
      "Converted to numeric\n"
     ]
    }
   ],
   "source": [
    "pop = clean_data(azdias[common_cols])"
   ]
  },
  {
   "cell_type": "code",
   "execution_count": 173,
   "metadata": {},
   "outputs": [],
   "source": [
    "cust.to_csv(\"cust.csv\", index=False, header=True, sep=\";\")"
   ]
  },
  {
   "cell_type": "code",
   "execution_count": 174,
   "metadata": {},
   "outputs": [],
   "source": [
    "pop.to_csv(\"pop.csv\", index=False, header=True, sep=\";\")"
   ]
  },
  {
   "cell_type": "markdown",
   "metadata": {},
   "source": [
    "## Part 1: Customer Segmentation Report\n",
    "\n",
    "The main bulk of your analysis will come in this part of the project. Here, you should use unsupervised learning techniques to describe the relationship between the demographics of the company's existing customers and the general population of Germany. By the end of this part, you should be able to describe parts of the general population that are more likely to be part of the mail-order company's main customer base, and which parts of the general population are less so."
   ]
  },
  {
   "cell_type": "code",
   "execution_count": null,
   "metadata": {},
   "outputs": [],
   "source": [
    "cust = pd.read_csv(\"cust.csv\", sep=\";\")\n",
    "pop = pd.read_csv(\"pop.csv\", sep=\";\")"
   ]
  },
  {
   "cell_type": "code",
   "execution_count": 175,
   "metadata": {},
   "outputs": [
    {
     "data": {
      "text/html": [
       "<div>\n",
       "<style scoped>\n",
       "    .dataframe tbody tr th:only-of-type {\n",
       "        vertical-align: middle;\n",
       "    }\n",
       "\n",
       "    .dataframe tbody tr th {\n",
       "        vertical-align: top;\n",
       "    }\n",
       "\n",
       "    .dataframe thead th {\n",
       "        text-align: right;\n",
       "    }\n",
       "</style>\n",
       "<table border=\"1\" class=\"dataframe\">\n",
       "  <thead>\n",
       "    <tr style=\"text-align: right;\">\n",
       "      <th></th>\n",
       "      <th>ALTERSKATEGORIE_GROB</th>\n",
       "      <th>ANREDE_KZ</th>\n",
       "      <th>CJT_GESAMTTYP</th>\n",
       "      <th>CJT_KATALOGNUTZER</th>\n",
       "      <th>CJT_TYP_1</th>\n",
       "      <th>CJT_TYP_2</th>\n",
       "      <th>CJT_TYP_3</th>\n",
       "      <th>CJT_TYP_4</th>\n",
       "      <th>CJT_TYP_5</th>\n",
       "      <th>CJT_TYP_6</th>\n",
       "      <th>...</th>\n",
       "      <th>SEMIO_KULT</th>\n",
       "      <th>SEMIO_LUST</th>\n",
       "      <th>SEMIO_MAT</th>\n",
       "      <th>SEMIO_PFLICHT</th>\n",
       "      <th>SEMIO_RAT</th>\n",
       "      <th>SEMIO_REL</th>\n",
       "      <th>SEMIO_SOZ</th>\n",
       "      <th>SEMIO_TRADV</th>\n",
       "      <th>SEMIO_VERT</th>\n",
       "      <th>ZABEOTYP</th>\n",
       "    </tr>\n",
       "  </thead>\n",
       "  <tbody>\n",
       "    <tr>\n",
       "      <th>0</th>\n",
       "      <td>4.0</td>\n",
       "      <td>1.0</td>\n",
       "      <td>5.0</td>\n",
       "      <td>4.0</td>\n",
       "      <td>1.0</td>\n",
       "      <td>1.0</td>\n",
       "      <td>5.0</td>\n",
       "      <td>5.0</td>\n",
       "      <td>5.0</td>\n",
       "      <td>5.0</td>\n",
       "      <td>...</td>\n",
       "      <td>4.0</td>\n",
       "      <td>7.0</td>\n",
       "      <td>6.0</td>\n",
       "      <td>2.0</td>\n",
       "      <td>1.0</td>\n",
       "      <td>2.0</td>\n",
       "      <td>6.0</td>\n",
       "      <td>1.0</td>\n",
       "      <td>6.0</td>\n",
       "      <td>3.0</td>\n",
       "    </tr>\n",
       "    <tr>\n",
       "      <th>1</th>\n",
       "      <td>4.0</td>\n",
       "      <td>1.0</td>\n",
       "      <td>6.0</td>\n",
       "      <td>5.0</td>\n",
       "      <td>1.0</td>\n",
       "      <td>1.0</td>\n",
       "      <td>5.0</td>\n",
       "      <td>5.0</td>\n",
       "      <td>5.0</td>\n",
       "      <td>5.0</td>\n",
       "      <td>...</td>\n",
       "      <td>4.0</td>\n",
       "      <td>5.0</td>\n",
       "      <td>6.0</td>\n",
       "      <td>4.0</td>\n",
       "      <td>1.0</td>\n",
       "      <td>2.0</td>\n",
       "      <td>3.0</td>\n",
       "      <td>1.0</td>\n",
       "      <td>7.0</td>\n",
       "      <td>3.0</td>\n",
       "    </tr>\n",
       "    <tr>\n",
       "      <th>2</th>\n",
       "      <td>4.0</td>\n",
       "      <td>2.0</td>\n",
       "      <td>2.0</td>\n",
       "      <td>5.0</td>\n",
       "      <td>2.0</td>\n",
       "      <td>2.0</td>\n",
       "      <td>5.0</td>\n",
       "      <td>5.0</td>\n",
       "      <td>5.0</td>\n",
       "      <td>5.0</td>\n",
       "      <td>...</td>\n",
       "      <td>1.0</td>\n",
       "      <td>7.0</td>\n",
       "      <td>3.0</td>\n",
       "      <td>4.0</td>\n",
       "      <td>2.0</td>\n",
       "      <td>1.0</td>\n",
       "      <td>2.0</td>\n",
       "      <td>1.0</td>\n",
       "      <td>3.0</td>\n",
       "      <td>3.0</td>\n",
       "    </tr>\n",
       "    <tr>\n",
       "      <th>3</th>\n",
       "      <td>4.0</td>\n",
       "      <td>1.0</td>\n",
       "      <td>2.0</td>\n",
       "      <td>5.0</td>\n",
       "      <td>1.0</td>\n",
       "      <td>1.0</td>\n",
       "      <td>5.0</td>\n",
       "      <td>5.0</td>\n",
       "      <td>5.0</td>\n",
       "      <td>5.0</td>\n",
       "      <td>...</td>\n",
       "      <td>4.0</td>\n",
       "      <td>5.0</td>\n",
       "      <td>4.0</td>\n",
       "      <td>3.0</td>\n",
       "      <td>3.0</td>\n",
       "      <td>3.0</td>\n",
       "      <td>6.0</td>\n",
       "      <td>4.0</td>\n",
       "      <td>7.0</td>\n",
       "      <td>1.0</td>\n",
       "    </tr>\n",
       "    <tr>\n",
       "      <th>4</th>\n",
       "      <td>3.0</td>\n",
       "      <td>1.0</td>\n",
       "      <td>6.0</td>\n",
       "      <td>4.0</td>\n",
       "      <td>3.0</td>\n",
       "      <td>3.0</td>\n",
       "      <td>3.0</td>\n",
       "      <td>4.0</td>\n",
       "      <td>3.0</td>\n",
       "      <td>3.0</td>\n",
       "      <td>...</td>\n",
       "      <td>5.0</td>\n",
       "      <td>6.0</td>\n",
       "      <td>6.0</td>\n",
       "      <td>5.0</td>\n",
       "      <td>5.0</td>\n",
       "      <td>4.0</td>\n",
       "      <td>4.0</td>\n",
       "      <td>4.0</td>\n",
       "      <td>5.0</td>\n",
       "      <td>1.0</td>\n",
       "    </tr>\n",
       "  </tbody>\n",
       "</table>\n",
       "<p>5 rows × 101 columns</p>\n",
       "</div>"
      ],
      "text/plain": [
       "   ALTERSKATEGORIE_GROB  ANREDE_KZ  CJT_GESAMTTYP  CJT_KATALOGNUTZER  \\\n",
       "0                   4.0        1.0            5.0                4.0   \n",
       "1                   4.0        1.0            6.0                5.0   \n",
       "2                   4.0        2.0            2.0                5.0   \n",
       "3                   4.0        1.0            2.0                5.0   \n",
       "4                   3.0        1.0            6.0                4.0   \n",
       "\n",
       "   CJT_TYP_1  CJT_TYP_2  CJT_TYP_3  CJT_TYP_4  CJT_TYP_5  CJT_TYP_6  ...  \\\n",
       "0        1.0        1.0        5.0        5.0        5.0        5.0  ...   \n",
       "1        1.0        1.0        5.0        5.0        5.0        5.0  ...   \n",
       "2        2.0        2.0        5.0        5.0        5.0        5.0  ...   \n",
       "3        1.0        1.0        5.0        5.0        5.0        5.0  ...   \n",
       "4        3.0        3.0        3.0        4.0        3.0        3.0  ...   \n",
       "\n",
       "   SEMIO_KULT  SEMIO_LUST  SEMIO_MAT  SEMIO_PFLICHT  SEMIO_RAT  SEMIO_REL  \\\n",
       "0         4.0         7.0        6.0            2.0        1.0        2.0   \n",
       "1         4.0         5.0        6.0            4.0        1.0        2.0   \n",
       "2         1.0         7.0        3.0            4.0        2.0        1.0   \n",
       "3         4.0         5.0        4.0            3.0        3.0        3.0   \n",
       "4         5.0         6.0        6.0            5.0        5.0        4.0   \n",
       "\n",
       "   SEMIO_SOZ  SEMIO_TRADV  SEMIO_VERT  ZABEOTYP  \n",
       "0        6.0          1.0         6.0       3.0  \n",
       "1        3.0          1.0         7.0       3.0  \n",
       "2        2.0          1.0         3.0       3.0  \n",
       "3        6.0          4.0         7.0       1.0  \n",
       "4        4.0          4.0         5.0       1.0  \n",
       "\n",
       "[5 rows x 101 columns]"
      ]
     },
     "execution_count": 175,
     "metadata": {},
     "output_type": "execute_result"
    }
   ],
   "source": [
    "cust.head()"
   ]
  },
  {
   "cell_type": "code",
   "execution_count": 176,
   "metadata": {},
   "outputs": [
    {
     "data": {
      "text/html": [
       "<div>\n",
       "<style scoped>\n",
       "    .dataframe tbody tr th:only-of-type {\n",
       "        vertical-align: middle;\n",
       "    }\n",
       "\n",
       "    .dataframe tbody tr th {\n",
       "        vertical-align: top;\n",
       "    }\n",
       "\n",
       "    .dataframe thead th {\n",
       "        text-align: right;\n",
       "    }\n",
       "</style>\n",
       "<table border=\"1\" class=\"dataframe\">\n",
       "  <thead>\n",
       "    <tr style=\"text-align: right;\">\n",
       "      <th></th>\n",
       "      <th>AKT_DAT_KL</th>\n",
       "      <th>ALTERSKATEGORIE_GROB</th>\n",
       "      <th>ANREDE_KZ</th>\n",
       "      <th>ANZ_HH_TITEL</th>\n",
       "      <th>ANZ_KINDER</th>\n",
       "      <th>ANZ_PERSONEN</th>\n",
       "      <th>ANZ_TITEL</th>\n",
       "      <th>ARBEIT</th>\n",
       "      <th>BALLRAUM</th>\n",
       "      <th>CAMEO_DEUG_2015</th>\n",
       "      <th>...</th>\n",
       "      <th>VERS_TYP</th>\n",
       "      <th>VHA</th>\n",
       "      <th>VHN</th>\n",
       "      <th>VK_DHT4A</th>\n",
       "      <th>VK_DISTANZ</th>\n",
       "      <th>VK_ZG11</th>\n",
       "      <th>WOHNDAUER_2008</th>\n",
       "      <th>WOHNLAGE</th>\n",
       "      <th>W_KEIT_KIND_HH</th>\n",
       "      <th>ZABEOTYP</th>\n",
       "    </tr>\n",
       "  </thead>\n",
       "  <tbody>\n",
       "    <tr>\n",
       "      <th>0</th>\n",
       "      <td>1.0</td>\n",
       "      <td>2.0</td>\n",
       "      <td>1.0</td>\n",
       "      <td>0.0</td>\n",
       "      <td>0.0</td>\n",
       "      <td>1.0</td>\n",
       "      <td>0.0</td>\n",
       "      <td>4.0</td>\n",
       "      <td>6.0</td>\n",
       "      <td>8.0</td>\n",
       "      <td>...</td>\n",
       "      <td>2.0</td>\n",
       "      <td>0.0</td>\n",
       "      <td>2.0</td>\n",
       "      <td>10.0</td>\n",
       "      <td>10.0</td>\n",
       "      <td>10.0</td>\n",
       "      <td>9.0</td>\n",
       "      <td>3.0</td>\n",
       "      <td>6.0</td>\n",
       "      <td>3.0</td>\n",
       "    </tr>\n",
       "    <tr>\n",
       "      <th>1</th>\n",
       "      <td>9.0</td>\n",
       "      <td>1.0</td>\n",
       "      <td>2.0</td>\n",
       "      <td>0.0</td>\n",
       "      <td>0.0</td>\n",
       "      <td>2.0</td>\n",
       "      <td>0.0</td>\n",
       "      <td>3.0</td>\n",
       "      <td>6.0</td>\n",
       "      <td>8.0</td>\n",
       "      <td>...</td>\n",
       "      <td>2.0</td>\n",
       "      <td>0.0</td>\n",
       "      <td>4.0</td>\n",
       "      <td>8.0</td>\n",
       "      <td>11.0</td>\n",
       "      <td>10.0</td>\n",
       "      <td>9.0</td>\n",
       "      <td>4.0</td>\n",
       "      <td>3.0</td>\n",
       "      <td>5.0</td>\n",
       "    </tr>\n",
       "    <tr>\n",
       "      <th>2</th>\n",
       "      <td>9.0</td>\n",
       "      <td>3.0</td>\n",
       "      <td>2.0</td>\n",
       "      <td>0.0</td>\n",
       "      <td>0.0</td>\n",
       "      <td>1.0</td>\n",
       "      <td>0.0</td>\n",
       "      <td>3.0</td>\n",
       "      <td>2.0</td>\n",
       "      <td>4.0</td>\n",
       "      <td>...</td>\n",
       "      <td>1.0</td>\n",
       "      <td>0.0</td>\n",
       "      <td>2.0</td>\n",
       "      <td>9.0</td>\n",
       "      <td>9.0</td>\n",
       "      <td>6.0</td>\n",
       "      <td>9.0</td>\n",
       "      <td>2.0</td>\n",
       "      <td>3.0</td>\n",
       "      <td>5.0</td>\n",
       "    </tr>\n",
       "    <tr>\n",
       "      <th>3</th>\n",
       "      <td>1.0</td>\n",
       "      <td>4.0</td>\n",
       "      <td>2.0</td>\n",
       "      <td>0.0</td>\n",
       "      <td>0.0</td>\n",
       "      <td>0.0</td>\n",
       "      <td>0.0</td>\n",
       "      <td>2.0</td>\n",
       "      <td>4.0</td>\n",
       "      <td>2.0</td>\n",
       "      <td>...</td>\n",
       "      <td>1.0</td>\n",
       "      <td>1.0</td>\n",
       "      <td>0.0</td>\n",
       "      <td>7.0</td>\n",
       "      <td>10.0</td>\n",
       "      <td>11.0</td>\n",
       "      <td>9.0</td>\n",
       "      <td>7.0</td>\n",
       "      <td>6.0</td>\n",
       "      <td>3.0</td>\n",
       "    </tr>\n",
       "    <tr>\n",
       "      <th>4</th>\n",
       "      <td>1.0</td>\n",
       "      <td>3.0</td>\n",
       "      <td>1.0</td>\n",
       "      <td>0.0</td>\n",
       "      <td>0.0</td>\n",
       "      <td>4.0</td>\n",
       "      <td>0.0</td>\n",
       "      <td>4.0</td>\n",
       "      <td>2.0</td>\n",
       "      <td>6.0</td>\n",
       "      <td>...</td>\n",
       "      <td>2.0</td>\n",
       "      <td>0.0</td>\n",
       "      <td>2.0</td>\n",
       "      <td>3.0</td>\n",
       "      <td>5.0</td>\n",
       "      <td>4.0</td>\n",
       "      <td>9.0</td>\n",
       "      <td>3.0</td>\n",
       "      <td>2.0</td>\n",
       "      <td>4.0</td>\n",
       "    </tr>\n",
       "  </tbody>\n",
       "</table>\n",
       "<p>5 rows × 335 columns</p>\n",
       "</div>"
      ],
      "text/plain": [
       "   AKT_DAT_KL  ALTERSKATEGORIE_GROB  ANREDE_KZ  ANZ_HH_TITEL  ANZ_KINDER  \\\n",
       "0         1.0                   2.0        1.0           0.0         0.0   \n",
       "1         9.0                   1.0        2.0           0.0         0.0   \n",
       "2         9.0                   3.0        2.0           0.0         0.0   \n",
       "3         1.0                   4.0        2.0           0.0         0.0   \n",
       "4         1.0                   3.0        1.0           0.0         0.0   \n",
       "\n",
       "   ANZ_PERSONEN  ANZ_TITEL  ARBEIT  BALLRAUM  CAMEO_DEUG_2015  ...  VERS_TYP  \\\n",
       "0           1.0        0.0     4.0       6.0              8.0  ...       2.0   \n",
       "1           2.0        0.0     3.0       6.0              8.0  ...       2.0   \n",
       "2           1.0        0.0     3.0       2.0              4.0  ...       1.0   \n",
       "3           0.0        0.0     2.0       4.0              2.0  ...       1.0   \n",
       "4           4.0        0.0     4.0       2.0              6.0  ...       2.0   \n",
       "\n",
       "   VHA  VHN  VK_DHT4A  VK_DISTANZ  VK_ZG11  WOHNDAUER_2008  WOHNLAGE  \\\n",
       "0  0.0  2.0      10.0        10.0     10.0             9.0       3.0   \n",
       "1  0.0  4.0       8.0        11.0     10.0             9.0       4.0   \n",
       "2  0.0  2.0       9.0         9.0      6.0             9.0       2.0   \n",
       "3  1.0  0.0       7.0        10.0     11.0             9.0       7.0   \n",
       "4  0.0  2.0       3.0         5.0      4.0             9.0       3.0   \n",
       "\n",
       "   W_KEIT_KIND_HH  ZABEOTYP  \n",
       "0             6.0       3.0  \n",
       "1             3.0       5.0  \n",
       "2             3.0       5.0  \n",
       "3             6.0       3.0  \n",
       "4             2.0       4.0  \n",
       "\n",
       "[5 rows x 335 columns]"
      ]
     },
     "execution_count": 176,
     "metadata": {},
     "output_type": "execute_result"
    }
   ],
   "source": [
    "pop.head()"
   ]
  },
  {
   "cell_type": "code",
   "execution_count": 177,
   "metadata": {},
   "outputs": [],
   "source": [
    "scaler = StandardScaler()"
   ]
  },
  {
   "cell_type": "markdown",
   "metadata": {},
   "source": [
    "Both the dataframes population and customers need to have same columns to be able to apply Principal Component Analysis technique with PCA model fitted using population data and then used to transform the customer data."
   ]
  },
  {
   "cell_type": "code",
   "execution_count": 178,
   "metadata": {},
   "outputs": [],
   "source": [
    "common_cols = np.intersect1d(pop.columns, cust.columns)"
   ]
  },
  {
   "cell_type": "code",
   "execution_count": 179,
   "metadata": {},
   "outputs": [],
   "source": [
    "pop_float = pop[common_cols]"
   ]
  },
  {
   "cell_type": "code",
   "execution_count": 180,
   "metadata": {},
   "outputs": [],
   "source": [
    "pop_scaled = pd.DataFrame(scaler.fit_transform(pop_float.values), columns=pop_float.columns)"
   ]
  },
  {
   "cell_type": "code",
   "execution_count": 181,
   "metadata": {},
   "outputs": [
    {
     "data": {
      "text/html": [
       "<div>\n",
       "<style scoped>\n",
       "    .dataframe tbody tr th:only-of-type {\n",
       "        vertical-align: middle;\n",
       "    }\n",
       "\n",
       "    .dataframe tbody tr th {\n",
       "        vertical-align: top;\n",
       "    }\n",
       "\n",
       "    .dataframe thead th {\n",
       "        text-align: right;\n",
       "    }\n",
       "</style>\n",
       "<table border=\"1\" class=\"dataframe\">\n",
       "  <thead>\n",
       "    <tr style=\"text-align: right;\">\n",
       "      <th></th>\n",
       "      <th>ALTERSKATEGORIE_GROB</th>\n",
       "      <th>ANREDE_KZ</th>\n",
       "      <th>CJT_GESAMTTYP</th>\n",
       "      <th>CJT_KATALOGNUTZER</th>\n",
       "      <th>CJT_TYP_1</th>\n",
       "      <th>CJT_TYP_2</th>\n",
       "      <th>CJT_TYP_3</th>\n",
       "      <th>CJT_TYP_4</th>\n",
       "      <th>CJT_TYP_5</th>\n",
       "      <th>CJT_TYP_6</th>\n",
       "      <th>...</th>\n",
       "      <th>SEMIO_KULT</th>\n",
       "      <th>SEMIO_LUST</th>\n",
       "      <th>SEMIO_MAT</th>\n",
       "      <th>SEMIO_PFLICHT</th>\n",
       "      <th>SEMIO_RAT</th>\n",
       "      <th>SEMIO_REL</th>\n",
       "      <th>SEMIO_SOZ</th>\n",
       "      <th>SEMIO_TRADV</th>\n",
       "      <th>SEMIO_VERT</th>\n",
       "      <th>ZABEOTYP</th>\n",
       "    </tr>\n",
       "  </thead>\n",
       "  <tbody>\n",
       "    <tr>\n",
       "      <th>0</th>\n",
       "      <td>2.0</td>\n",
       "      <td>1.0</td>\n",
       "      <td>2.0</td>\n",
       "      <td>5.0</td>\n",
       "      <td>1.0</td>\n",
       "      <td>1.0</td>\n",
       "      <td>5.0</td>\n",
       "      <td>5.0</td>\n",
       "      <td>5.0</td>\n",
       "      <td>5.0</td>\n",
       "      <td>...</td>\n",
       "      <td>3.0</td>\n",
       "      <td>5.0</td>\n",
       "      <td>5.0</td>\n",
       "      <td>5.0</td>\n",
       "      <td>4.0</td>\n",
       "      <td>7.0</td>\n",
       "      <td>2.0</td>\n",
       "      <td>3.0</td>\n",
       "      <td>1.0</td>\n",
       "      <td>3.0</td>\n",
       "    </tr>\n",
       "    <tr>\n",
       "      <th>1</th>\n",
       "      <td>1.0</td>\n",
       "      <td>2.0</td>\n",
       "      <td>5.0</td>\n",
       "      <td>1.0</td>\n",
       "      <td>5.0</td>\n",
       "      <td>5.0</td>\n",
       "      <td>2.0</td>\n",
       "      <td>3.0</td>\n",
       "      <td>1.0</td>\n",
       "      <td>1.0</td>\n",
       "      <td>...</td>\n",
       "      <td>3.0</td>\n",
       "      <td>2.0</td>\n",
       "      <td>3.0</td>\n",
       "      <td>7.0</td>\n",
       "      <td>6.0</td>\n",
       "      <td>4.0</td>\n",
       "      <td>5.0</td>\n",
       "      <td>6.0</td>\n",
       "      <td>1.0</td>\n",
       "      <td>5.0</td>\n",
       "    </tr>\n",
       "    <tr>\n",
       "      <th>2</th>\n",
       "      <td>3.0</td>\n",
       "      <td>2.0</td>\n",
       "      <td>3.0</td>\n",
       "      <td>2.0</td>\n",
       "      <td>4.0</td>\n",
       "      <td>4.0</td>\n",
       "      <td>1.0</td>\n",
       "      <td>3.0</td>\n",
       "      <td>2.0</td>\n",
       "      <td>2.0</td>\n",
       "      <td>...</td>\n",
       "      <td>3.0</td>\n",
       "      <td>4.0</td>\n",
       "      <td>3.0</td>\n",
       "      <td>3.0</td>\n",
       "      <td>4.0</td>\n",
       "      <td>3.0</td>\n",
       "      <td>4.0</td>\n",
       "      <td>3.0</td>\n",
       "      <td>4.0</td>\n",
       "      <td>5.0</td>\n",
       "    </tr>\n",
       "    <tr>\n",
       "      <th>3</th>\n",
       "      <td>4.0</td>\n",
       "      <td>2.0</td>\n",
       "      <td>2.0</td>\n",
       "      <td>3.0</td>\n",
       "      <td>2.0</td>\n",
       "      <td>2.0</td>\n",
       "      <td>4.0</td>\n",
       "      <td>4.0</td>\n",
       "      <td>5.0</td>\n",
       "      <td>3.0</td>\n",
       "      <td>...</td>\n",
       "      <td>4.0</td>\n",
       "      <td>4.0</td>\n",
       "      <td>1.0</td>\n",
       "      <td>4.0</td>\n",
       "      <td>3.0</td>\n",
       "      <td>2.0</td>\n",
       "      <td>5.0</td>\n",
       "      <td>4.0</td>\n",
       "      <td>4.0</td>\n",
       "      <td>3.0</td>\n",
       "    </tr>\n",
       "    <tr>\n",
       "      <th>4</th>\n",
       "      <td>3.0</td>\n",
       "      <td>1.0</td>\n",
       "      <td>5.0</td>\n",
       "      <td>3.0</td>\n",
       "      <td>3.0</td>\n",
       "      <td>3.0</td>\n",
       "      <td>3.0</td>\n",
       "      <td>4.0</td>\n",
       "      <td>3.0</td>\n",
       "      <td>3.0</td>\n",
       "      <td>...</td>\n",
       "      <td>6.0</td>\n",
       "      <td>4.0</td>\n",
       "      <td>2.0</td>\n",
       "      <td>4.0</td>\n",
       "      <td>2.0</td>\n",
       "      <td>4.0</td>\n",
       "      <td>6.0</td>\n",
       "      <td>2.0</td>\n",
       "      <td>7.0</td>\n",
       "      <td>4.0</td>\n",
       "    </tr>\n",
       "  </tbody>\n",
       "</table>\n",
       "<p>5 rows × 101 columns</p>\n",
       "</div>"
      ],
      "text/plain": [
       "   ALTERSKATEGORIE_GROB  ANREDE_KZ  CJT_GESAMTTYP  CJT_KATALOGNUTZER  \\\n",
       "0                   2.0        1.0            2.0                5.0   \n",
       "1                   1.0        2.0            5.0                1.0   \n",
       "2                   3.0        2.0            3.0                2.0   \n",
       "3                   4.0        2.0            2.0                3.0   \n",
       "4                   3.0        1.0            5.0                3.0   \n",
       "\n",
       "   CJT_TYP_1  CJT_TYP_2  CJT_TYP_3  CJT_TYP_4  CJT_TYP_5  CJT_TYP_6  ...  \\\n",
       "0        1.0        1.0        5.0        5.0        5.0        5.0  ...   \n",
       "1        5.0        5.0        2.0        3.0        1.0        1.0  ...   \n",
       "2        4.0        4.0        1.0        3.0        2.0        2.0  ...   \n",
       "3        2.0        2.0        4.0        4.0        5.0        3.0  ...   \n",
       "4        3.0        3.0        3.0        4.0        3.0        3.0  ...   \n",
       "\n",
       "   SEMIO_KULT  SEMIO_LUST  SEMIO_MAT  SEMIO_PFLICHT  SEMIO_RAT  SEMIO_REL  \\\n",
       "0         3.0         5.0        5.0            5.0        4.0        7.0   \n",
       "1         3.0         2.0        3.0            7.0        6.0        4.0   \n",
       "2         3.0         4.0        3.0            3.0        4.0        3.0   \n",
       "3         4.0         4.0        1.0            4.0        3.0        2.0   \n",
       "4         6.0         4.0        2.0            4.0        2.0        4.0   \n",
       "\n",
       "   SEMIO_SOZ  SEMIO_TRADV  SEMIO_VERT  ZABEOTYP  \n",
       "0        2.0          3.0         1.0       3.0  \n",
       "1        5.0          6.0         1.0       5.0  \n",
       "2        4.0          3.0         4.0       5.0  \n",
       "3        5.0          4.0         4.0       3.0  \n",
       "4        6.0          2.0         7.0       4.0  \n",
       "\n",
       "[5 rows x 101 columns]"
      ]
     },
     "execution_count": 181,
     "metadata": {},
     "output_type": "execute_result"
    }
   ],
   "source": [
    "pop_float.head()"
   ]
  },
  {
   "cell_type": "code",
   "execution_count": 182,
   "metadata": {},
   "outputs": [
    {
     "data": {
      "text/html": [
       "<div>\n",
       "<style scoped>\n",
       "    .dataframe tbody tr th:only-of-type {\n",
       "        vertical-align: middle;\n",
       "    }\n",
       "\n",
       "    .dataframe tbody tr th {\n",
       "        vertical-align: top;\n",
       "    }\n",
       "\n",
       "    .dataframe thead th {\n",
       "        text-align: right;\n",
       "    }\n",
       "</style>\n",
       "<table border=\"1\" class=\"dataframe\">\n",
       "  <thead>\n",
       "    <tr style=\"text-align: right;\">\n",
       "      <th></th>\n",
       "      <th>ALTERSKATEGORIE_GROB</th>\n",
       "      <th>ANREDE_KZ</th>\n",
       "      <th>CJT_GESAMTTYP</th>\n",
       "      <th>CJT_KATALOGNUTZER</th>\n",
       "      <th>CJT_TYP_1</th>\n",
       "      <th>CJT_TYP_2</th>\n",
       "      <th>CJT_TYP_3</th>\n",
       "      <th>CJT_TYP_4</th>\n",
       "      <th>CJT_TYP_5</th>\n",
       "      <th>CJT_TYP_6</th>\n",
       "      <th>...</th>\n",
       "      <th>SEMIO_KULT</th>\n",
       "      <th>SEMIO_LUST</th>\n",
       "      <th>SEMIO_MAT</th>\n",
       "      <th>SEMIO_PFLICHT</th>\n",
       "      <th>SEMIO_RAT</th>\n",
       "      <th>SEMIO_REL</th>\n",
       "      <th>SEMIO_SOZ</th>\n",
       "      <th>SEMIO_TRADV</th>\n",
       "      <th>SEMIO_VERT</th>\n",
       "      <th>ZABEOTYP</th>\n",
       "    </tr>\n",
       "  </thead>\n",
       "  <tbody>\n",
       "    <tr>\n",
       "      <th>0</th>\n",
       "      <td>-0.751680</td>\n",
       "      <td>-1.045218</td>\n",
       "      <td>-1.027618</td>\n",
       "      <td>1.107775</td>\n",
       "      <td>-1.735176</td>\n",
       "      <td>-1.570560</td>\n",
       "      <td>1.172932</td>\n",
       "      <td>1.203659</td>\n",
       "      <td>1.181001</td>\n",
       "      <td>1.147432</td>\n",
       "      <td>...</td>\n",
       "      <td>-0.538400</td>\n",
       "      <td>0.316841</td>\n",
       "      <td>0.537487</td>\n",
       "      <td>0.420264</td>\n",
       "      <td>0.056863</td>\n",
       "      <td>1.374629</td>\n",
       "      <td>-0.999639</td>\n",
       "      <td>-0.387544</td>\n",
       "      <td>-1.455284</td>\n",
       "      <td>-0.267936</td>\n",
       "    </tr>\n",
       "    <tr>\n",
       "      <th>1</th>\n",
       "      <td>-1.743339</td>\n",
       "      <td>0.956738</td>\n",
       "      <td>0.858107</td>\n",
       "      <td>-1.568545</td>\n",
       "      <td>1.184799</td>\n",
       "      <td>1.278729</td>\n",
       "      <td>-0.973028</td>\n",
       "      <td>-0.251101</td>\n",
       "      <td>-1.716472</td>\n",
       "      <td>-1.860914</td>\n",
       "      <td>...</td>\n",
       "      <td>-0.538400</td>\n",
       "      <td>-1.166231</td>\n",
       "      <td>-0.539206</td>\n",
       "      <td>1.550121</td>\n",
       "      <td>1.322441</td>\n",
       "      <td>-0.119863</td>\n",
       "      <td>0.541539</td>\n",
       "      <td>1.369271</td>\n",
       "      <td>-1.455284</td>\n",
       "      <td>1.210585</td>\n",
       "    </tr>\n",
       "    <tr>\n",
       "      <th>2</th>\n",
       "      <td>0.239980</td>\n",
       "      <td>0.956738</td>\n",
       "      <td>-0.399043</td>\n",
       "      <td>-0.899465</td>\n",
       "      <td>0.454805</td>\n",
       "      <td>0.566407</td>\n",
       "      <td>-1.688349</td>\n",
       "      <td>-0.251101</td>\n",
       "      <td>-0.992104</td>\n",
       "      <td>-1.108827</td>\n",
       "      <td>...</td>\n",
       "      <td>-0.538400</td>\n",
       "      <td>-0.177517</td>\n",
       "      <td>-0.539206</td>\n",
       "      <td>-0.709593</td>\n",
       "      <td>0.056863</td>\n",
       "      <td>-0.618027</td>\n",
       "      <td>0.027813</td>\n",
       "      <td>-0.387544</td>\n",
       "      <td>-0.011411</td>\n",
       "      <td>1.210585</td>\n",
       "    </tr>\n",
       "    <tr>\n",
       "      <th>3</th>\n",
       "      <td>1.231640</td>\n",
       "      <td>0.956738</td>\n",
       "      <td>-1.027618</td>\n",
       "      <td>-0.230385</td>\n",
       "      <td>-1.005182</td>\n",
       "      <td>-0.858238</td>\n",
       "      <td>0.457612</td>\n",
       "      <td>0.476279</td>\n",
       "      <td>1.181001</td>\n",
       "      <td>-0.356741</td>\n",
       "      <td>...</td>\n",
       "      <td>-0.013139</td>\n",
       "      <td>-0.177517</td>\n",
       "      <td>-1.615900</td>\n",
       "      <td>-0.144664</td>\n",
       "      <td>-0.575926</td>\n",
       "      <td>-1.116191</td>\n",
       "      <td>0.541539</td>\n",
       "      <td>0.198061</td>\n",
       "      <td>-0.011411</td>\n",
       "      <td>-0.267936</td>\n",
       "    </tr>\n",
       "    <tr>\n",
       "      <th>4</th>\n",
       "      <td>0.239980</td>\n",
       "      <td>-1.045218</td>\n",
       "      <td>0.858107</td>\n",
       "      <td>-0.230385</td>\n",
       "      <td>-0.275189</td>\n",
       "      <td>-0.145915</td>\n",
       "      <td>-0.257708</td>\n",
       "      <td>0.476279</td>\n",
       "      <td>-0.267735</td>\n",
       "      <td>-0.356741</td>\n",
       "      <td>...</td>\n",
       "      <td>1.037383</td>\n",
       "      <td>-0.177517</td>\n",
       "      <td>-1.077553</td>\n",
       "      <td>-0.144664</td>\n",
       "      <td>-1.208715</td>\n",
       "      <td>-0.119863</td>\n",
       "      <td>1.055265</td>\n",
       "      <td>-0.973149</td>\n",
       "      <td>1.432462</td>\n",
       "      <td>0.471325</td>\n",
       "    </tr>\n",
       "  </tbody>\n",
       "</table>\n",
       "<p>5 rows × 101 columns</p>\n",
       "</div>"
      ],
      "text/plain": [
       "   ALTERSKATEGORIE_GROB  ANREDE_KZ  CJT_GESAMTTYP  CJT_KATALOGNUTZER  \\\n",
       "0             -0.751680  -1.045218      -1.027618           1.107775   \n",
       "1             -1.743339   0.956738       0.858107          -1.568545   \n",
       "2              0.239980   0.956738      -0.399043          -0.899465   \n",
       "3              1.231640   0.956738      -1.027618          -0.230385   \n",
       "4              0.239980  -1.045218       0.858107          -0.230385   \n",
       "\n",
       "   CJT_TYP_1  CJT_TYP_2  CJT_TYP_3  CJT_TYP_4  CJT_TYP_5  CJT_TYP_6  ...  \\\n",
       "0  -1.735176  -1.570560   1.172932   1.203659   1.181001   1.147432  ...   \n",
       "1   1.184799   1.278729  -0.973028  -0.251101  -1.716472  -1.860914  ...   \n",
       "2   0.454805   0.566407  -1.688349  -0.251101  -0.992104  -1.108827  ...   \n",
       "3  -1.005182  -0.858238   0.457612   0.476279   1.181001  -0.356741  ...   \n",
       "4  -0.275189  -0.145915  -0.257708   0.476279  -0.267735  -0.356741  ...   \n",
       "\n",
       "   SEMIO_KULT  SEMIO_LUST  SEMIO_MAT  SEMIO_PFLICHT  SEMIO_RAT  SEMIO_REL  \\\n",
       "0   -0.538400    0.316841   0.537487       0.420264   0.056863   1.374629   \n",
       "1   -0.538400   -1.166231  -0.539206       1.550121   1.322441  -0.119863   \n",
       "2   -0.538400   -0.177517  -0.539206      -0.709593   0.056863  -0.618027   \n",
       "3   -0.013139   -0.177517  -1.615900      -0.144664  -0.575926  -1.116191   \n",
       "4    1.037383   -0.177517  -1.077553      -0.144664  -1.208715  -0.119863   \n",
       "\n",
       "   SEMIO_SOZ  SEMIO_TRADV  SEMIO_VERT  ZABEOTYP  \n",
       "0  -0.999639    -0.387544   -1.455284 -0.267936  \n",
       "1   0.541539     1.369271   -1.455284  1.210585  \n",
       "2   0.027813    -0.387544   -0.011411  1.210585  \n",
       "3   0.541539     0.198061   -0.011411 -0.267936  \n",
       "4   1.055265    -0.973149    1.432462  0.471325  \n",
       "\n",
       "[5 rows x 101 columns]"
      ]
     },
     "execution_count": 182,
     "metadata": {},
     "output_type": "execute_result"
    }
   ],
   "source": [
    "pop_scaled.head()"
   ]
  },
  {
   "cell_type": "code",
   "execution_count": 183,
   "metadata": {},
   "outputs": [],
   "source": [
    "cust_float = cust[common_cols].astype(float)"
   ]
  },
  {
   "cell_type": "code",
   "execution_count": 184,
   "metadata": {},
   "outputs": [],
   "source": [
    "cust_scaled = pd.DataFrame(scaler.transform(cust_float.values), columns=cust_float.columns)"
   ]
  },
  {
   "cell_type": "code",
   "execution_count": 185,
   "metadata": {},
   "outputs": [],
   "source": [
    "pca = PCA(random_state=42)"
   ]
  },
  {
   "cell_type": "code",
   "execution_count": 186,
   "metadata": {},
   "outputs": [],
   "source": [
    "pop_pca = pca.fit_transform(pop_scaled)"
   ]
  },
  {
   "cell_type": "markdown",
   "metadata": {},
   "source": [
    "In PCA, I decided to retain number components that account for 80% for variance in the dataset. Below graph visualizes that it retained to 40 components which could explain 80% of variance in the data."
   ]
  },
  {
   "cell_type": "code",
   "execution_count": 187,
   "metadata": {},
   "outputs": [
    {
     "data": {
      "image/png": "[encoded data removed]",
      "text/plain": [
       "<Figure size 432x288 with 2 Axes>"
      ]
     },
     "metadata": {
      "needs_background": "light"
     },
     "output_type": "display_data"
    }
   ],
   "source": [
    "n_components = min(np.where(np.cumsum(pca.explained_variance_ratio_)>0.8)[0]+1)\n",
    "\n",
    "fig = plt.figure()\n",
    "ax = fig.add_axes([0,0,1,1],True)\n",
    "ax2 = ax.twinx()\n",
    "ax.plot(pca.explained_variance_ratio_, label='Variance',)\n",
    "ax2.plot(np.cumsum(pca.explained_variance_ratio_), label='Cumulative Variance',color = 'orange');\n",
    "ax.set_title('n_components needed for >%80 explained variance: {}'.format(n_components));\n",
    "ax.axvline(n_components, linestyle='dashed', color='black')\n",
    "ax2.axhline(np.cumsum(pca.explained_variance_ratio_)[n_components], linestyle='dashed', color='black')\n",
    "fig.legend(loc=(0.6,0.2));"
   ]
  },
  {
   "cell_type": "code",
   "execution_count": 188,
   "metadata": {},
   "outputs": [],
   "source": [
    "pca = PCA(n_components=n_components, random_state=42)"
   ]
  },
  {
   "cell_type": "code",
   "execution_count": 189,
   "metadata": {},
   "outputs": [],
   "source": [
    "pop_pca = pca.fit_transform(pop_float)"
   ]
  },
  {
   "cell_type": "code",
   "execution_count": 190,
   "metadata": {},
   "outputs": [
    {
     "data": {
      "text/plain": [
       "0.8850348252734119"
      ]
     },
     "execution_count": 190,
     "metadata": {},
     "output_type": "execute_result"
    }
   ],
   "source": [
    "pca.explained_variance_ratio_.sum()"
   ]
  },
  {
   "cell_type": "code",
   "execution_count": 191,
   "metadata": {},
   "outputs": [],
   "source": [
    "def get_kmeans_score(data, k):\n",
    "    kmeans = KMeans(n_clusters=k, random_state=42)\n",
    "    model = kmeans.fit(data)\n",
    "    score = np.abs(model.score(data))\n",
    "    return score"
   ]
  },
  {
   "cell_type": "code",
   "execution_count": null,
   "metadata": {},
   "outputs": [],
   "source": [
    "scores = []\n",
    "ks = list(range(2,31, 5))\n",
    "for k in ks:\n",
    "    scores.append(get_kmeans_score(pop_pca, k))"
   ]
  },
  {
   "cell_type": "code",
   "execution_count": 105,
   "metadata": {},
   "outputs": [
    {
     "data": {
      "image/png": "[encoded data removed]",
      "text/plain": [
       "<Figure size 432x288 with 1 Axes>"
      ]
     },
     "metadata": {
      "needs_background": "light"
     },
     "output_type": "display_data"
    }
   ],
   "source": [
    "plt.plot(ks, scores, marker='o');\n",
    "plt.xlabel('K');\n",
    "plt.ylabel('SSE');\n",
    "plt.title('SSE vs. K');"
   ]
  },
  {
   "cell_type": "markdown",
   "metadata": {},
   "source": [
    "As the reduction in Standard Squared Error of becomes very slow after 20 clusters, I decided to divide the population data into 20 clusters and proceed further."
   ]
  },
  {
   "cell_type": "code",
   "execution_count": 192,
   "metadata": {},
   "outputs": [],
   "source": [
    "k = 20"
   ]
  },
  {
   "cell_type": "code",
   "execution_count": 193,
   "metadata": {},
   "outputs": [],
   "source": [
    "kmeans = KMeans(n_clusters=k, random_state=42, n_jobs=-1)"
   ]
  },
  {
   "cell_type": "code",
   "execution_count": 194,
   "metadata": {},
   "outputs": [],
   "source": [
    "model_pop = kmeans.fit(pop_pca)"
   ]
  },
  {
   "cell_type": "code",
   "execution_count": 195,
   "metadata": {},
   "outputs": [],
   "source": [
    "pop_pred = model_pop.predict(pop_pca) + 1"
   ]
  },
  {
   "cell_type": "code",
   "execution_count": 196,
   "metadata": {},
   "outputs": [],
   "source": [
    "cust_pca = pca.transform(cust_scaled)"
   ]
  },
  {
   "cell_type": "code",
   "execution_count": 197,
   "metadata": {},
   "outputs": [],
   "source": [
    "cust_pred = model_pop.predict(cust_pca) + 1"
   ]
  },
  {
   "cell_type": "code",
   "execution_count": 198,
   "metadata": {},
   "outputs": [
    {
     "data": {
      "image/png": "[encoded data removed]",
      "text/plain": [
       "<Figure size 648x432 with 1 Axes>"
      ]
     },
     "metadata": {
      "needs_background": "light"
     },
     "output_type": "display_data"
    }
   ],
   "source": [
    "general_prop = []\n",
    "customers_prop = []\n",
    "x = range(1, k+1)\n",
    "for i in range(1, k+1):\n",
    "    general_prop.append((pop_pred == i).sum()/len(pop_pred))\n",
    "    customers_prop.append((cust_pred == i).sum()/len(cust_pred))\n",
    "\n",
    "\n",
    "df_prop = pd.DataFrame({'cluster' : x, 'prop_general' : general_prop, 'prop_customers':customers_prop})\n",
    "\n",
    "#ax = sns.countplot(x='index', y = df_general['prop_1', 'prop_2'], data=df_general )\n",
    "df_prop.plot(x='cluster', y = ['prop_general', 'prop_customers'], kind='bar', figsize=(9,6))\n",
    "plt.ylabel('proportion of people in each cluster')\n",
    "plt.show()"
   ]
  },
  {
   "cell_type": "markdown",
   "metadata": {},
   "source": [
    "From the above graph, the customers are highly represented in the clusters where the orang bar is relatively longer than blue bar. Now let's try to interpret the components of the cluster which is mostly represents the consumers to understand the characteristics of the people that are assigned to that cluster."
   ]
  },
  {
   "cell_type": "code",
   "execution_count": 199,
   "metadata": {},
   "outputs": [
    {
     "data": {
      "text/plain": [
       "7     107407\n",
       "5      60570\n",
       "20     11732\n",
       "10      7990\n",
       "15      2592\n",
       "4        599\n",
       "9        583\n",
       "1        122\n",
       "8         57\n",
       "dtype: int64"
      ]
     },
     "execution_count": 199,
     "metadata": {},
     "output_type": "execute_result"
    }
   ],
   "source": [
    "pd.Series(cust_pred).value_counts()"
   ]
  },
  {
   "cell_type": "code",
   "execution_count": 200,
   "metadata": {},
   "outputs": [],
   "source": [
    "df_prop[\"diff\"] = (df_prop[\"prop_customers\"] - df_prop[\"prop_general\"])/df_prop[\"prop_general\"]"
   ]
  },
  {
   "cell_type": "code",
   "execution_count": 201,
   "metadata": {},
   "outputs": [
    {
     "data": {
      "text/plain": [
       "0    -0.985334\n",
       "1    -1.000000\n",
       "2    -1.000000\n",
       "3    -0.954304\n",
       "4     3.433332\n",
       "5    -1.000000\n",
       "6     6.278808\n",
       "7    -0.990280\n",
       "8    -0.944614\n",
       "9    -0.147798\n",
       "10   -1.000000\n",
       "11   -1.000000\n",
       "12   -1.000000\n",
       "13   -1.000000\n",
       "14   -0.615008\n",
       "15   -1.000000\n",
       "16   -1.000000\n",
       "17   -1.000000\n",
       "18   -1.000000\n",
       "19   -0.102635\n",
       "Name: diff, dtype: float64"
      ]
     },
     "execution_count": 201,
     "metadata": {},
     "output_type": "execute_result"
    }
   ],
   "source": [
    "df_prop[\"diff\"]"
   ]
  },
  {
   "cell_type": "code",
   "execution_count": 202,
   "metadata": {},
   "outputs": [],
   "source": [
    "sorted_by_diff = df_prop.sort_values(by=[\"diff\"], ascending=False)[\"cluster\"]"
   ]
  },
  {
   "cell_type": "markdown",
   "metadata": {},
   "source": [
    "Finding out the most highly representative cluster for the customers."
   ]
  },
  {
   "cell_type": "code",
   "execution_count": 203,
   "metadata": {},
   "outputs": [],
   "source": [
    "most_likely_cust_cluster = sorted_by_diff.iloc[0]"
   ]
  },
  {
   "cell_type": "code",
   "execution_count": 204,
   "metadata": {},
   "outputs": [
    {
     "data": {
      "text/plain": [
       "7"
      ]
     },
     "execution_count": 204,
     "metadata": {},
     "output_type": "execute_result"
    }
   ],
   "source": [
    "most_likely_cust_cluster"
   ]
  },
  {
   "cell_type": "markdown",
   "metadata": {},
   "source": [
    "Listing out all the clusters that the customers are represented by."
   ]
  },
  {
   "cell_type": "code",
   "execution_count": 205,
   "metadata": {},
   "outputs": [],
   "source": [
    "cust_in_most_likely_cust_cluster = cust_pca[cust_pred == most_likely_cust_cluster]"
   ]
  },
  {
   "cell_type": "code",
   "execution_count": 206,
   "metadata": {},
   "outputs": [],
   "source": [
    "def pca_weights(pca, i):\n",
    "    weight_map = {}\n",
    "    for counter, feature in enumerate(common_cols):\n",
    "        weight_map[feature] = pca.components_[i][counter]\n",
    "    \n",
    "    sorted_weights = sorted(weight_map.items(), key=operator.itemgetter(1), reverse=True)\n",
    "    \n",
    "    return sorted_weights"
   ]
  },
  {
   "cell_type": "markdown",
   "metadata": {},
   "source": [
    "I want to find out the principal component in which the customers in highly representative cluster differ significantly from the rest of the population. For that I am relying upon the distance of mean of the values of each component in terms of standard deviations and sorting them by that distance in decreasing order to see which component has highest distance from the mean."
   ]
  },
  {
   "cell_type": "code",
   "execution_count": 207,
   "metadata": {},
   "outputs": [],
   "source": [
    "comp_significance = pd.DataFrame({\"comp\": range(pop_pca.shape[1]), \"dist_in_std\" : (cust_in_most_likely_cust_cluster.mean(axis=0) - pop_pca.mean(axis=0))/pop_pca.std(axis=0)})"
   ]
  },
  {
   "cell_type": "code",
   "execution_count": 208,
   "metadata": {},
   "outputs": [
    {
     "data": {
      "text/html": [
       "<div>\n",
       "<style scoped>\n",
       "    .dataframe tbody tr th:only-of-type {\n",
       "        vertical-align: middle;\n",
       "    }\n",
       "\n",
       "    .dataframe tbody tr th {\n",
       "        vertical-align: top;\n",
       "    }\n",
       "\n",
       "    .dataframe thead th {\n",
       "        text-align: right;\n",
       "    }\n",
       "</style>\n",
       "<table border=\"1\" class=\"dataframe\">\n",
       "  <thead>\n",
       "    <tr style=\"text-align: right;\">\n",
       "      <th></th>\n",
       "      <th>comp</th>\n",
       "      <th>dist_in_std</th>\n",
       "    </tr>\n",
       "  </thead>\n",
       "  <tbody>\n",
       "    <tr>\n",
       "      <th>0</th>\n",
       "      <td>0</td>\n",
       "      <td>-0.781943</td>\n",
       "    </tr>\n",
       "    <tr>\n",
       "      <th>1</th>\n",
       "      <td>1</td>\n",
       "      <td>-0.839045</td>\n",
       "    </tr>\n",
       "    <tr>\n",
       "      <th>2</th>\n",
       "      <td>2</td>\n",
       "      <td>0.350259</td>\n",
       "    </tr>\n",
       "    <tr>\n",
       "      <th>3</th>\n",
       "      <td>3</td>\n",
       "      <td>-0.216549</td>\n",
       "    </tr>\n",
       "    <tr>\n",
       "      <th>4</th>\n",
       "      <td>4</td>\n",
       "      <td>0.598783</td>\n",
       "    </tr>\n",
       "  </tbody>\n",
       "</table>\n",
       "</div>"
      ],
      "text/plain": [
       "   comp  dist_in_std\n",
       "0     0    -0.781943\n",
       "1     1    -0.839045\n",
       "2     2     0.350259\n",
       "3     3    -0.216549\n",
       "4     4     0.598783"
      ]
     },
     "execution_count": 208,
     "metadata": {},
     "output_type": "execute_result"
    }
   ],
   "source": [
    "comp_significance.head()"
   ]
  },
  {
   "cell_type": "code",
   "execution_count": 209,
   "metadata": {},
   "outputs": [],
   "source": [
    "comp_significance[\"abs_dist_in_std\"] = comp_significance[\"dist_in_std\"].abs()"
   ]
  },
  {
   "cell_type": "code",
   "execution_count": 210,
   "metadata": {},
   "outputs": [],
   "source": [
    "comp_sorted = comp_significance.sort_values(by=[\"abs_dist_in_std\"], ascending=False)"
   ]
  },
  {
   "cell_type": "code",
   "execution_count": 211,
   "metadata": {},
   "outputs": [
    {
     "data": {
      "text/html": [
       "<div>\n",
       "<style scoped>\n",
       "    .dataframe tbody tr th:only-of-type {\n",
       "        vertical-align: middle;\n",
       "    }\n",
       "\n",
       "    .dataframe tbody tr th {\n",
       "        vertical-align: top;\n",
       "    }\n",
       "\n",
       "    .dataframe thead th {\n",
       "        text-align: right;\n",
       "    }\n",
       "</style>\n",
       "<table border=\"1\" class=\"dataframe\">\n",
       "  <thead>\n",
       "    <tr style=\"text-align: right;\">\n",
       "      <th></th>\n",
       "      <th>comp</th>\n",
       "      <th>dist_in_std</th>\n",
       "      <th>abs_dist_in_std</th>\n",
       "    </tr>\n",
       "  </thead>\n",
       "  <tbody>\n",
       "    <tr>\n",
       "      <th>25</th>\n",
       "      <td>25</td>\n",
       "      <td>3.444522</td>\n",
       "      <td>3.444522</td>\n",
       "    </tr>\n",
       "    <tr>\n",
       "      <th>11</th>\n",
       "      <td>11</td>\n",
       "      <td>-2.932276</td>\n",
       "      <td>2.932276</td>\n",
       "    </tr>\n",
       "    <tr>\n",
       "      <th>36</th>\n",
       "      <td>36</td>\n",
       "      <td>2.895844</td>\n",
       "      <td>2.895844</td>\n",
       "    </tr>\n",
       "    <tr>\n",
       "      <th>39</th>\n",
       "      <td>39</td>\n",
       "      <td>-2.777980</td>\n",
       "      <td>2.777980</td>\n",
       "    </tr>\n",
       "    <tr>\n",
       "      <th>37</th>\n",
       "      <td>37</td>\n",
       "      <td>-2.389181</td>\n",
       "      <td>2.389181</td>\n",
       "    </tr>\n",
       "    <tr>\n",
       "      <th>9</th>\n",
       "      <td>9</td>\n",
       "      <td>2.366031</td>\n",
       "      <td>2.366031</td>\n",
       "    </tr>\n",
       "    <tr>\n",
       "      <th>10</th>\n",
       "      <td>10</td>\n",
       "      <td>-1.784908</td>\n",
       "      <td>1.784908</td>\n",
       "    </tr>\n",
       "    <tr>\n",
       "      <th>40</th>\n",
       "      <td>40</td>\n",
       "      <td>-1.686472</td>\n",
       "      <td>1.686472</td>\n",
       "    </tr>\n",
       "    <tr>\n",
       "      <th>19</th>\n",
       "      <td>19</td>\n",
       "      <td>1.460177</td>\n",
       "      <td>1.460177</td>\n",
       "    </tr>\n",
       "    <tr>\n",
       "      <th>17</th>\n",
       "      <td>17</td>\n",
       "      <td>1.262314</td>\n",
       "      <td>1.262314</td>\n",
       "    </tr>\n",
       "    <tr>\n",
       "      <th>22</th>\n",
       "      <td>22</td>\n",
       "      <td>-1.137180</td>\n",
       "      <td>1.137180</td>\n",
       "    </tr>\n",
       "    <tr>\n",
       "      <th>16</th>\n",
       "      <td>16</td>\n",
       "      <td>-1.085370</td>\n",
       "      <td>1.085370</td>\n",
       "    </tr>\n",
       "    <tr>\n",
       "      <th>1</th>\n",
       "      <td>1</td>\n",
       "      <td>-0.839045</td>\n",
       "      <td>0.839045</td>\n",
       "    </tr>\n",
       "    <tr>\n",
       "      <th>0</th>\n",
       "      <td>0</td>\n",
       "      <td>-0.781943</td>\n",
       "      <td>0.781943</td>\n",
       "    </tr>\n",
       "    <tr>\n",
       "      <th>34</th>\n",
       "      <td>34</td>\n",
       "      <td>0.768361</td>\n",
       "      <td>0.768361</td>\n",
       "    </tr>\n",
       "    <tr>\n",
       "      <th>26</th>\n",
       "      <td>26</td>\n",
       "      <td>0.761952</td>\n",
       "      <td>0.761952</td>\n",
       "    </tr>\n",
       "    <tr>\n",
       "      <th>20</th>\n",
       "      <td>20</td>\n",
       "      <td>0.760289</td>\n",
       "      <td>0.760289</td>\n",
       "    </tr>\n",
       "    <tr>\n",
       "      <th>32</th>\n",
       "      <td>32</td>\n",
       "      <td>-0.681589</td>\n",
       "      <td>0.681589</td>\n",
       "    </tr>\n",
       "    <tr>\n",
       "      <th>31</th>\n",
       "      <td>31</td>\n",
       "      <td>0.673963</td>\n",
       "      <td>0.673963</td>\n",
       "    </tr>\n",
       "    <tr>\n",
       "      <th>15</th>\n",
       "      <td>15</td>\n",
       "      <td>-0.663307</td>\n",
       "      <td>0.663307</td>\n",
       "    </tr>\n",
       "    <tr>\n",
       "      <th>18</th>\n",
       "      <td>18</td>\n",
       "      <td>-0.625633</td>\n",
       "      <td>0.625633</td>\n",
       "    </tr>\n",
       "    <tr>\n",
       "      <th>21</th>\n",
       "      <td>21</td>\n",
       "      <td>-0.611187</td>\n",
       "      <td>0.611187</td>\n",
       "    </tr>\n",
       "    <tr>\n",
       "      <th>4</th>\n",
       "      <td>4</td>\n",
       "      <td>0.598783</td>\n",
       "      <td>0.598783</td>\n",
       "    </tr>\n",
       "    <tr>\n",
       "      <th>29</th>\n",
       "      <td>29</td>\n",
       "      <td>0.576125</td>\n",
       "      <td>0.576125</td>\n",
       "    </tr>\n",
       "    <tr>\n",
       "      <th>27</th>\n",
       "      <td>27</td>\n",
       "      <td>0.554718</td>\n",
       "      <td>0.554718</td>\n",
       "    </tr>\n",
       "    <tr>\n",
       "      <th>14</th>\n",
       "      <td>14</td>\n",
       "      <td>0.537877</td>\n",
       "      <td>0.537877</td>\n",
       "    </tr>\n",
       "    <tr>\n",
       "      <th>2</th>\n",
       "      <td>2</td>\n",
       "      <td>0.350259</td>\n",
       "      <td>0.350259</td>\n",
       "    </tr>\n",
       "    <tr>\n",
       "      <th>23</th>\n",
       "      <td>23</td>\n",
       "      <td>-0.334734</td>\n",
       "      <td>0.334734</td>\n",
       "    </tr>\n",
       "    <tr>\n",
       "      <th>8</th>\n",
       "      <td>8</td>\n",
       "      <td>0.295253</td>\n",
       "      <td>0.295253</td>\n",
       "    </tr>\n",
       "    <tr>\n",
       "      <th>6</th>\n",
       "      <td>6</td>\n",
       "      <td>0.264152</td>\n",
       "      <td>0.264152</td>\n",
       "    </tr>\n",
       "    <tr>\n",
       "      <th>3</th>\n",
       "      <td>3</td>\n",
       "      <td>-0.216549</td>\n",
       "      <td>0.216549</td>\n",
       "    </tr>\n",
       "    <tr>\n",
       "      <th>24</th>\n",
       "      <td>24</td>\n",
       "      <td>-0.199810</td>\n",
       "      <td>0.199810</td>\n",
       "    </tr>\n",
       "    <tr>\n",
       "      <th>5</th>\n",
       "      <td>5</td>\n",
       "      <td>-0.149867</td>\n",
       "      <td>0.149867</td>\n",
       "    </tr>\n",
       "    <tr>\n",
       "      <th>35</th>\n",
       "      <td>35</td>\n",
       "      <td>-0.141209</td>\n",
       "      <td>0.141209</td>\n",
       "    </tr>\n",
       "    <tr>\n",
       "      <th>33</th>\n",
       "      <td>33</td>\n",
       "      <td>-0.097684</td>\n",
       "      <td>0.097684</td>\n",
       "    </tr>\n",
       "    <tr>\n",
       "      <th>12</th>\n",
       "      <td>12</td>\n",
       "      <td>-0.094276</td>\n",
       "      <td>0.094276</td>\n",
       "    </tr>\n",
       "    <tr>\n",
       "      <th>7</th>\n",
       "      <td>7</td>\n",
       "      <td>0.086506</td>\n",
       "      <td>0.086506</td>\n",
       "    </tr>\n",
       "    <tr>\n",
       "      <th>28</th>\n",
       "      <td>28</td>\n",
       "      <td>-0.053814</td>\n",
       "      <td>0.053814</td>\n",
       "    </tr>\n",
       "    <tr>\n",
       "      <th>30</th>\n",
       "      <td>30</td>\n",
       "      <td>0.032653</td>\n",
       "      <td>0.032653</td>\n",
       "    </tr>\n",
       "    <tr>\n",
       "      <th>13</th>\n",
       "      <td>13</td>\n",
       "      <td>0.030747</td>\n",
       "      <td>0.030747</td>\n",
       "    </tr>\n",
       "    <tr>\n",
       "      <th>38</th>\n",
       "      <td>38</td>\n",
       "      <td>0.021212</td>\n",
       "      <td>0.021212</td>\n",
       "    </tr>\n",
       "  </tbody>\n",
       "</table>\n",
       "</div>"
      ],
      "text/plain": [
       "    comp  dist_in_std  abs_dist_in_std\n",
       "25    25     3.444522         3.444522\n",
       "11    11    -2.932276         2.932276\n",
       "36    36     2.895844         2.895844\n",
       "39    39    -2.777980         2.777980\n",
       "37    37    -2.389181         2.389181\n",
       "9      9     2.366031         2.366031\n",
       "10    10    -1.784908         1.784908\n",
       "40    40    -1.686472         1.686472\n",
       "19    19     1.460177         1.460177\n",
       "17    17     1.262314         1.262314\n",
       "22    22    -1.137180         1.137180\n",
       "16    16    -1.085370         1.085370\n",
       "1      1    -0.839045         0.839045\n",
       "0      0    -0.781943         0.781943\n",
       "34    34     0.768361         0.768361\n",
       "26    26     0.761952         0.761952\n",
       "20    20     0.760289         0.760289\n",
       "32    32    -0.681589         0.681589\n",
       "31    31     0.673963         0.673963\n",
       "15    15    -0.663307         0.663307\n",
       "18    18    -0.625633         0.625633\n",
       "21    21    -0.611187         0.611187\n",
       "4      4     0.598783         0.598783\n",
       "29    29     0.576125         0.576125\n",
       "27    27     0.554718         0.554718\n",
       "14    14     0.537877         0.537877\n",
       "2      2     0.350259         0.350259\n",
       "23    23    -0.334734         0.334734\n",
       "8      8     0.295253         0.295253\n",
       "6      6     0.264152         0.264152\n",
       "3      3    -0.216549         0.216549\n",
       "24    24    -0.199810         0.199810\n",
       "5      5    -0.149867         0.149867\n",
       "35    35    -0.141209         0.141209\n",
       "33    33    -0.097684         0.097684\n",
       "12    12    -0.094276         0.094276\n",
       "7      7     0.086506         0.086506\n",
       "28    28    -0.053814         0.053814\n",
       "30    30     0.032653         0.032653\n",
       "13    13     0.030747         0.030747\n",
       "38    38     0.021212         0.021212"
      ]
     },
     "execution_count": 211,
     "metadata": {},
     "output_type": "execute_result"
    }
   ],
   "source": [
    "comp_sorted"
   ]
  },
  {
   "cell_type": "markdown",
   "metadata": {},
   "source": [
    "It is clear that component number 25 is having highest distance of values from the rest of the population. We can take a look at the weights associated with the original input variables for that component to see which variables have highest positive or negative influence on deciding the value of this component."
   ]
  },
  {
   "cell_type": "code",
   "execution_count": 212,
   "metadata": {
    "scrolled": true
   },
   "outputs": [
    {
     "name": "stdout",
     "output_type": "stream",
     "text": [
      "[('D19_HAUS_DEKO', 0.16412879955334464),\n",
      " ('RT_SCHNAEPPCHEN', 0.11648645490452936),\n",
      " ('FINANZTYP', 0.11107742240149958),\n",
      " ('D19_SONSTIGE', 0.10546766858274352),\n",
      " ('FINANZ_ANLEGER', 0.09780059410031197),\n",
      " ('D19_GESAMT_ONLINE_DATUM', 0.0841001694156468),\n",
      " ('SEMIO_SOZ', 0.07982797061244255),\n",
      " ('D19_BILDUNG', 0.07367075415617678),\n",
      " ('CJT_GESAMTTYP', 0.07103124410270022),\n",
      " ('D19_RATGEBER', 0.06398787167250329),\n",
      " ('CJT_TYP_3', 0.06382174954152343),\n",
      " ('CJT_TYP_5', 0.060079088612023095),\n",
      " ('KOMBIALTER', 0.05940756911162346),\n",
      " ('CJT_TYP_6', 0.05826175909273628),\n",
      " ('D19_SAMMELARTIKEL', 0.05643487159713055),\n",
      " ('D19_BANKEN_ONLINE_DATUM', 0.05144177352221758),\n",
      " ('D19_BANKEN_DIREKT', 0.04946619205119535),\n",
      " ('D19_VERSAND_OFFLINE_DATUM', 0.045893486255317154),\n",
      " ('CJT_KATALOGNUTZER', 0.043376760651107585),\n",
      " ('SEMIO_KRIT', 0.04128208719663421),\n",
      " ('D19_TELKO_MOBILE', 0.038268997607484936),\n",
      " ('D19_TECHNIK', 0.03524415373906046),\n",
      " ('D19_BEKLEIDUNG_GEH', 0.03423660158502428),\n",
      " ('D19_WEIN_FEINKOST', 0.03327107055603341),\n",
      " ('D19_BEKLEIDUNG_REST', 0.032369139810439575),\n",
      " ('CJT_TYP_4', 0.02974827102494253),\n",
      " ('D19_BIO_OEKO', 0.029344976420352935),\n",
      " ('FINANZ_VORSORGER', 0.02931122259962965),\n",
      " ('FINANZ_SPARER', 0.02612916932705461),\n",
      " ('D19_VOLLSORTIMENT', 0.02233316696992287),\n",
      " ('D19_TELKO_DATUM', 0.021906410070969867),\n",
      " ('SEMIO_REL', 0.02069349404695816),\n",
      " ('D19_KOSMETIK', 0.020427124640224285),\n",
      " ('D19_GARTEN', 0.020350745635207994),\n",
      " ('SEMIO_DOM', 0.017863317870217776),\n",
      " ('FINANZ_UNAUFFAELLIGER', 0.012997008657081578),\n",
      " ('D19_VERSICHERUNGEN', 0.011470677299649968),\n",
      " ('D19_NAHRUNGSERGAENZUNG', 0.01031141782277961),\n",
      " ('D19_VERSI_DATUM', 0.010208397877405864),\n",
      " ('ONLINE_AFFINITAET', 0.00920596555989553),\n",
      " ('D19_GESAMT_DATUM', 0.008447179096032984),\n",
      " ('FINANZ_MINIMALIST', 0.006162541907344177),\n",
      " ('D19_LEBENSMITTEL', 0.0023351772011189088),\n",
      " ('GFK_URLAUBERTYP', 0.002311882428921504),\n",
      " ('D19_TELKO_ONLINE_DATUM', 0.0013812891328673505),\n",
      " ('CJT_TYP_1', 0.0007765636266091578),\n",
      " ('D19_ENERGIE', -0.0011223465360368418),\n",
      " ('D19_HANDWERK', -0.0022150390107882304),\n",
      " ('D19_BANKEN_LOKAL', -0.0023643938857233877),\n",
      " ('D19_VERSI_ONLINE_DATUM', -0.002475651335888232),\n",
      " ('CJT_TYP_2', -0.0027342355288459902),\n",
      " ('D19_VERSI_ANZ_12', -0.0037788499006307054),\n",
      " ('D19_VERSI_ANZ_24', -0.0043333966522099915),\n",
      " ('D19_TELKO_ANZ_12', -0.004659252969435524),\n",
      " ('D19_DIGIT_SERV', -0.005627678303750707),\n",
      " ('D19_TIERARTIKEL', -0.006470544894346708),\n",
      " ('D19_TELKO_ANZ_24', -0.006855639002540201),\n",
      " ('SEMIO_KAEM', -0.006916099724688662),\n",
      " ('GREEN_AVANTGARDE', -0.006992358682607023),\n",
      " ('SEMIO_KULT', -0.00874166322567647),\n",
      " ('ANREDE_KZ', -0.01043371163457573),\n",
      " ('RETOURTYP_BK_S', -0.011597970324448273),\n",
      " ('SEMIO_PFLICHT', -0.012126071926726278),\n",
      " ('D19_TELKO_OFFLINE_DATUM', -0.014571529567907719),\n",
      " ('D19_VERSAND_ANZ_12', -0.016433223806425267),\n",
      " ('D19_BANKEN_ANZ_12', -0.016591120611210777),\n",
      " ('D19_VERSAND_ANZ_24', -0.017191275809980533),\n",
      " ('D19_GESAMT_ANZ_24', -0.024220833437477274),\n",
      " ('D19_SCHUHE', -0.024295908303489454),\n",
      " ('D19_VERSAND_ONLINE_DATUM', -0.02445569687814756),\n",
      " ('D19_BANKEN_ANZ_24', -0.026146003979707427),\n",
      " ('D19_GESAMT_ANZ_12', -0.026839318557094444),\n",
      " ('FINANZ_HAUSBAUER', -0.02834294526441558),\n",
      " ('D19_FREIZEIT', -0.02915980572712951),\n",
      " ('SEMIO_FAM', -0.03107705269199463),\n",
      " ('D19_BANKEN_OFFLINE_DATUM', -0.03307373899959165),\n",
      " ('D19_KONSUMTYP_MAX', -0.04417194785130805),\n",
      " ('LP_STATUS_GROB', -0.04609549261240866),\n",
      " ('D19_BUCH_CD', -0.0476242057529877),\n",
      " ('D19_TELKO_REST', -0.04863489980027509),\n",
      " ('D19_BANKEN_DATUM', -0.048900554995823936),\n",
      " ('RT_KEIN_ANREIZ', -0.0495656917587255),\n",
      " ('D19_KINDERARTIKEL', -0.054568108149998136),\n",
      " ('D19_GESAMT_OFFLINE_DATUM', -0.05572323739653954),\n",
      " ('D19_DROGERIEARTIKEL', -0.06391045630983741),\n",
      " ('ZABEOTYP', -0.06497601785591837),\n",
      " ('D19_BANKEN_GROSS', -0.06547446518654554),\n",
      " ('SEMIO_VERT', -0.06899807898428274),\n",
      " ('D19_BANKEN_REST', -0.07140382149476654),\n",
      " ('D19_VERSAND_DATUM', -0.07315236268580792),\n",
      " ('LP_STATUS_FEIN', -0.07668936314109612),\n",
      " ('D19_VERSI_OFFLINE_DATUM', -0.07956642706206399),\n",
      " ('ALTERSKATEGORIE_GROB', -0.08641920674836051),\n",
      " ('HH_EINKOMMEN_SCORE', -0.08946844726830798),\n",
      " ('SEMIO_RAT', -0.11734645901215784),\n",
      " ('SEMIO_TRADV', -0.1244329382324566),\n",
      " ('D19_REISEN', -0.16941629232115055),\n",
      " ('D19_VERSAND_REST', -0.17436804647622306),\n",
      " ('SEMIO_ERL', -0.19497011251374569),\n",
      " ('SEMIO_MAT', -0.4906162333137957),\n",
      " ('SEMIO_LUST', -0.637466548486126)]\n"
     ]
    }
   ],
   "source": [
    "pprint.pprint(pca_weights(pca, comp_sorted.iloc[0, 0]))"
   ]
  },
  {
   "cell_type": "code",
   "execution_count": 213,
   "metadata": {
    "scrolled": true
   },
   "outputs": [
    {
     "name": "stdout",
     "output_type": "stream",
     "text": [
      "[('KOMBIALTER', 0.5119648952690264),\n",
      " ('SEMIO_REL', 0.25948234263488257),\n",
      " ('SEMIO_FAM', 0.2156482151757325),\n",
      " ('SEMIO_LUST', 0.2110120624653668),\n",
      " ('CJT_TYP_3', 0.20486480057541961),\n",
      " ('CJT_KATALOGNUTZER', 0.19615182006783274),\n",
      " ('CJT_TYP_4', 0.17423014533164252),\n",
      " ('GFK_URLAUBERTYP', 0.16833640883166445),\n",
      " ('CJT_TYP_6', 0.16173296675974788),\n",
      " ('D19_VERSAND_ONLINE_DATUM', 0.14933164929413997),\n",
      " ('CJT_TYP_5', 0.1473490433440154),\n",
      " ('CJT_GESAMTTYP', 0.14200709562553174),\n",
      " ('SEMIO_MAT', 0.11926310829172278),\n",
      " ('D19_TECHNIK', 0.11586776671402665),\n",
      " ('D19_REISEN', 0.11026281902897038),\n",
      " ('D19_KOSMETIK', 0.10675279810988693),\n",
      " ('FINANZ_UNAUFFAELLIGER', 0.09592713833674178),\n",
      " ('D19_HANDWERK', 0.0911257963176962),\n",
      " ('D19_VERSI_DATUM', 0.08867818324455332),\n",
      " ('FINANZ_ANLEGER', 0.08772767104085305),\n",
      " ('D19_BUCH_CD', 0.08758018494977982),\n",
      " ('D19_GESAMT_ONLINE_DATUM', 0.08545144285963001),\n",
      " ('FINANZ_HAUSBAUER', 0.08325574821354803),\n",
      " ('D19_SAMMELARTIKEL', 0.08227039322320204),\n",
      " ('RT_SCHNAEPPCHEN', 0.07911005104925219),\n",
      " ('D19_VOLLSORTIMENT', 0.07574886819611784),\n",
      " ('D19_VERSICHERUNGEN', 0.07343397301634404),\n",
      " ('SEMIO_KRIT', 0.06640225504924151),\n",
      " ('D19_BEKLEIDUNG_REST', 0.060774859660296346),\n",
      " ('D19_WEIN_FEINKOST', 0.0579326775717299),\n",
      " ('D19_KONSUMTYP_MAX', 0.056056031701545585),\n",
      " ('D19_RATGEBER', 0.05590489804307951),\n",
      " ('D19_BILDUNG', 0.0547851273694773),\n",
      " ('RETOURTYP_BK_S', 0.051152870961456855),\n",
      " ('D19_HAUS_DEKO', 0.05114232087131687),\n",
      " ('SEMIO_PFLICHT', 0.04871686574741421),\n",
      " ('D19_NAHRUNGSERGAENZUNG', 0.044441358398180156),\n",
      " ('D19_VERSAND_DATUM', 0.04365851850649385),\n",
      " ('FINANZ_VORSORGER', 0.04341323057373156),\n",
      " ('D19_DROGERIEARTIKEL', 0.043271812765703896),\n",
      " ('FINANZ_SPARER', 0.042155860119694355),\n",
      " ('D19_LEBENSMITTEL', 0.039333076553692),\n",
      " ('D19_VERSAND_REST', 0.038536708307907515),\n",
      " ('CJT_TYP_2', 0.037970696657332756),\n",
      " ('D19_BIO_OEKO', 0.03719156883285718),\n",
      " ('D19_TELKO_REST', 0.036056732392565224),\n",
      " ('D19_FREIZEIT', 0.032742090567024165),\n",
      " ('D19_TELKO_MOBILE', 0.03131881095200518),\n",
      " ('D19_KINDERARTIKEL', 0.03026024047290282),\n",
      " ('D19_TELKO_DATUM', 0.02592159220492107),\n",
      " ('D19_BEKLEIDUNG_GEH', 0.0251736385206001),\n",
      " ('D19_GARTEN', 0.022372919403960655),\n",
      " ('D19_BANKEN_REST', 0.02173949426292594),\n",
      " ('D19_TELKO_OFFLINE_DATUM', 0.021480841755079756),\n",
      " ('D19_TIERARTIKEL', 0.019124165387778464),\n",
      " ('RT_KEIN_ANREIZ', 0.016824870512272286),\n",
      " ('FINANZTYP', 0.01585881770621311),\n",
      " ('D19_BANKEN_OFFLINE_DATUM', 0.015212360051862708),\n",
      " ('D19_SONSTIGE', 0.01457515207915729),\n",
      " ('D19_VERSI_OFFLINE_DATUM', 0.013125343051085899),\n",
      " ('D19_DIGIT_SERV', 0.012114459271905968),\n",
      " ('D19_BANKEN_DIREKT', 0.010898328046440585),\n",
      " ('CJT_TYP_1', 0.009524164068776503),\n",
      " ('D19_BANKEN_LOKAL', 0.008202676653698915),\n",
      " ('SEMIO_KAEM', 0.007440151857698365),\n",
      " ('D19_ENERGIE', 0.006931357971866279),\n",
      " ('D19_SCHUHE', 0.005775583507456166),\n",
      " ('ALTERSKATEGORIE_GROB', 0.005269959932377906),\n",
      " ('D19_VERSI_ONLINE_DATUM', 0.004167175284250885),\n",
      " ('D19_TELKO_ONLINE_DATUM', 0.0038843210573668526),\n",
      " ('D19_TELKO_ANZ_24', 0.002013557597870666),\n",
      " ('D19_VERSI_ANZ_24', 0.0010597551628559786),\n",
      " ('D19_TELKO_ANZ_12', 0.0009865360795108219),\n",
      " ('D19_VERSI_ANZ_12', -0.0006140359812407293),\n",
      " ('D19_BANKEN_ANZ_12', -0.0008469644401517313),\n",
      " ('D19_BANKEN_ANZ_24', -0.00211962700987635),\n",
      " ('D19_BANKEN_GROSS', -0.0035383785933144935),\n",
      " ('SEMIO_KULT', -0.003815098833101223),\n",
      " ('D19_VERSAND_ANZ_24', -0.007498298335143458),\n",
      " ('D19_GESAMT_ANZ_24', -0.009617199443699835),\n",
      " ('ONLINE_AFFINITAET', -0.010188738007358512),\n",
      " ('D19_GESAMT_ANZ_12', -0.011587794168485984),\n",
      " ('D19_VERSAND_ANZ_12', -0.011609068411942959),\n",
      " ('D19_BANKEN_ONLINE_DATUM', -0.015822929616399677),\n",
      " ('SEMIO_DOM', -0.01604369114262798),\n",
      " ('GREEN_AVANTGARDE', -0.018360960263839193),\n",
      " ('D19_BANKEN_DATUM', -0.018662637865066303),\n",
      " ('FINANZ_MINIMALIST', -0.019454558077367734),\n",
      " ('ANREDE_KZ', -0.023190081701672294),\n",
      " ('D19_VERSAND_OFFLINE_DATUM', -0.04279987883924727),\n",
      " ('SEMIO_RAT', -0.04694138462836495),\n",
      " ('ZABEOTYP', -0.0754029652583942),\n",
      " ('SEMIO_SOZ', -0.07742812297529521),\n",
      " ('SEMIO_TRADV', -0.10878020667667362),\n",
      " ('LP_STATUS_GROB', -0.11193929971332911),\n",
      " ('D19_GESAMT_OFFLINE_DATUM', -0.12016298898269957),\n",
      " ('D19_GESAMT_DATUM', -0.12175425466078349),\n",
      " ('SEMIO_ERL', -0.12588836660676095),\n",
      " ('HH_EINKOMMEN_SCORE', -0.12996429781783647),\n",
      " ('SEMIO_VERT', -0.1303396159081691),\n",
      " ('LP_STATUS_FEIN', -0.21268602651331867)]\n"
     ]
    }
   ],
   "source": [
    "pprint.pprint(pca_weights(pca, comp_sorted.iloc[1, 0]))"
   ]
  },
  {
   "cell_type": "markdown",
   "metadata": {},
   "source": [
    "Looking at the original attributes that have highest absolute weight and the directionality based on the positive or negative sign of the coefficient for top two most influencial components in the highly representative cluster, it seems that some of the attributes that best describes the customers are:\n",
    "- Female (ANDERE_KZ)\n",
    "- Sensual minded (SEMIO_LUST)\n",
    "- Materialistic minded (SEMIO_MAT)\n",
    "- Young (ALTERSKATEGORIE_GROS)\n",
    "- House owner or top earner (LP_STATUS_GROB, LP_STATUS_FEIN)\n",
    "- Financially well prepared (FINANZTYP)\n",
    "- Religious and familiar minded (SEMIO_REL, SEMIO_FAM)\n",
    "\n",
    "As the company has cosmetics as one of their product groups, the data suggests that sensual minded young female are more likely to buy such products."
   ]
  },
  {
   "cell_type": "markdown",
   "metadata": {},
   "source": [
    "The remaining parts are continued in sepearate file `Part 2 Supervised Learning and Part 3 Kaggle.ipynb`"
   ]
  },
  {
   "cell_type": "code",
   "execution_count": null,
   "metadata": {},
   "outputs": [],
   "source": []
  }
 ],
 "metadata": {
  "kernelspec": {
   "display_name": "Python 3",
   "language": "python",
   "name": "python3"
  },
  "language_info": {
   "codemirror_mode": {
    "name": "ipython",
    "version": 3
   },
   "file_extension": ".py",
   "mimetype": "text/x-python",
   "name": "python",
   "nbconvert_exporter": "python",
   "pygments_lexer": "ipython3",
   "version": "3.7.3"
  }
 },
 "nbformat": 4,
 "nbformat_minor": 2
}
